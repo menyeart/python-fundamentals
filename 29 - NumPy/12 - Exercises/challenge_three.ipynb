{
 "cells": [
  {
   "cell_type": "code",
   "execution_count": 30,
   "id": "a10201e4",
   "metadata": {},
   "outputs": [
    {
     "name": "stdout",
     "output_type": "stream",
     "text": [
      "[['2550' 'Robert Morton' '145-51 107th Ave' 'Jamaica, NY 11435'\n",
      "  '1999-07-08' '917-288-9635' 'America/New_York' '40.68959' '-73.80487']\n",
      " ['4304' 'Stephanie Flynn' '108-20 139th St' 'Jamaica, NY 11435'\n",
      "  '1963-06-12' '838-477-9033' 'America/New_York' '40.68490' '-73.81544']]\n"
     ]
    },
    {
     "data": {
      "text/plain": [
       "['2550Robert Morton145-51 107th AveJamaica, NY 114351999-07-08917-288-9635America/New_York40.68959-73.80487']"
      ]
     },
     "execution_count": 30,
     "metadata": {},
     "output_type": "execute_result"
    }
   ],
   "source": [
    "# Possible Years:\n",
    "#     2012, 2000, 1988, 1976, 1954, 1942, 1930, 1918\n",
    "\n",
    "# Possible Months\n",
    "# June 21- July22\n",
    "\n",
    "# Neighborhood\n",
    "# same as contractor\n",
    "\n",
    "import csv\n",
    "import numpy as np\n",
    "from dateutil import parser\n",
    "\n",
    "with open(\"noahs-customers.csv\") as customers:\n",
    "    reader = csv.reader(customers)\n",
    "    headers = next(reader)\n",
    "    data = list(reader)\n",
    "    \n",
    "customer_arr = np.array(data)\n",
    "\n",
    "#Try Neigborhood Mask first for speed\n",
    "\n",
    "cities = customer_arr[:, 3]\n",
    "cities_mask = np.equal(cities, \"Jamaica, NY 11435\")\n",
    "cities_matches = customer_arr[mask]\n",
    "\n",
    "# Get birthdays, convert to time objects compare with possible months to create mask\n",
    "\n",
    "birthday_col = cities_matches[:, 4]\n",
    "birthday_date_objs = [parser.parse(date) for date in birthday_col]\n",
    "birthday_date_mask = [ True if date.month == 6 or date.month == 7 else False for date in birthday_date_objs]\n",
    "\n",
    "# Apply birth month mask\n",
    "\n",
    "birth_month_possibles = cities_matches[np.array(birthday_date_mask)]\n",
    "\n",
    "# Create year mask\n",
    "\n",
    "years = [1927, 1928, 1939, 1940, 1951, 1952, 1963, 1964, 1975, 1976, 1987, 1988, 1999, 2000]\n",
    "birth_dates_col = birth_month_possibles[:, 4]\n",
    "birthday_date_objs2 = [parser.parse(date) for date in birth_dates_col]\n",
    "birth_month_mask = [ True if date.year in years else False for date in birthday_date_objs2 ]\n",
    "\n",
    "# Apply Mask\n",
    "\n",
    "final_possibles = birth_month_possibles[np.array(birth_month_mask)]\n",
    "print(final_possibles)\n",
    "\n",
    "['2550' 'Robert Morton' '145-51 107th Ave' 'Jamaica, NY 11435'\n",
    "  '1999-07-08' '917-288-9635' 'America/New_York' '40.68959' '-73.80487']\n",
    "\n",
    "    \n"
   ]
  }
 ],
 "metadata": {
  "kernelspec": {
   "display_name": "Python 3 (ipykernel)",
   "language": "python",
   "name": "python3"
  },
  "language_info": {
   "codemirror_mode": {
    "name": "ipython",
    "version": 3
   },
   "file_extension": ".py",
   "mimetype": "text/x-python",
   "name": "python",
   "nbconvert_exporter": "python",
   "pygments_lexer": "ipython3",
   "version": "3.11.4"
  }
 },
 "nbformat": 4,
 "nbformat_minor": 5
}
