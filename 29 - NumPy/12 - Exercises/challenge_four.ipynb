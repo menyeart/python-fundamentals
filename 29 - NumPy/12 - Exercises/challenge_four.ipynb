{
 "cells": [
  {
   "cell_type": "code",
   "execution_count": 51,
   "id": "0dea1a28",
   "metadata": {},
   "outputs": [
    {
     "name": "stdout",
     "output_type": "stream",
     "text": [
      "[['1298' '2889' '2017-02-03 00:43:52' '2017-02-03 04:15:00' '' '2.53']\n",
      " ['1301' '4233' '2017-02-03 02:02:42' '2017-02-03 03:15:00' '' '39.51']\n",
      " ['1414' '5928' '2017-02-04 00:19:19' '2017-02-04 00:19:19' '' '1.22']\n",
      " ...\n",
      " ['213634' '7803' '2022-12-11 01:15:46' '2022-12-11 03:15:00' '' '3.76']\n",
      " ['213927' '5188' '2022-12-14 00:27:05' '2022-12-14 00:27:05' '' '11.32']\n",
      " ['214043' '1115' '2022-12-15 00:43:51' '2022-12-15 04:45:00' '' '89.24']]\n",
      "6648\n"
     ]
    }
   ],
   "source": [
    "import csv\n",
    "import numpy as np\n",
    "from dateutil import parser\n",
    "\n",
    "# Orders before 5AM\n",
    "    \n",
    "with open(\"noahs-orders.csv\") as orders:\n",
    "    reader = csv.reader(orders)\n",
    "    headers = next(reader)\n",
    "    data = list(reader)\n",
    "    \n",
    "order_arr = np.array(data)\n",
    "    \n",
    "shipped_times = order_arr[:, 3]\n",
    "converted_shipped_times = [parser.parse(time).hour for time in shipped_times]\n",
    "time_mask = np.less(np.array(converted_shipped_times), 5)\n",
    "possible_orders = order_arr[time_mask]\n",
    "\n",
    "print(possible_orders)\n",
    "    \n",
    "    \n",
    "# Only order items from the bakery\n",
    "\n",
    "with open(\"noahs-orders_items.csv\") as order_items:\n",
    "    reader = csv.reader(order_items)\n",
    "    headers = next(reader)\n",
    "    data = list(reader)\n",
    "    \n",
    "order_item_arr = np.array(data)\n",
    "    \n",
    "    \n",
    "skus = order_item_arr[:, 1]\n",
    "skus_arr = np.array(skus)\n",
    "part_skus = [sku[0:3] for sku in skus]\n",
    "mask = np.equal(np.array(part_skus), \"BKY\")\n",
    "possible_order_items = order_item_arr[mask]\n",
    "\n",
    "print(len(possible_order_items))\n",
    "\n",
    "# with open(\"noahs-products.csv\") as prods:\n",
    "#     reader = csv.reader(prods)\n",
    "#     headers = next(reader)\n",
    "#     data = list(reader)\n",
    "    \n",
    "# prod_arr= np.array(data)\n",
    "\n",
    "# skus = prod_arr[:, 0]\n",
    "# part_skus = [sku[0:3] for sku in skus]\n",
    "# mask = np.equal(np.array(part_skus), \"BKY\")\n",
    "# possible_products = prod_arr[mask]\n",
    "\n",
    "# print(possible_products)\n",
    "    \n",
    "    \n",
    "\n",
    "\n",
    "    \n",
    "\n",
    "    "
   ]
  }
 ],
 "metadata": {
  "kernelspec": {
   "display_name": "Python 3 (ipykernel)",
   "language": "python",
   "name": "python3"
  },
  "language_info": {
   "codemirror_mode": {
    "name": "ipython",
    "version": 3
   },
   "file_extension": ".py",
   "mimetype": "text/x-python",
   "name": "python",
   "nbconvert_exporter": "python",
   "pygments_lexer": "ipython3",
   "version": "3.11.4"
  }
 },
 "nbformat": 4,
 "nbformat_minor": 5
}
