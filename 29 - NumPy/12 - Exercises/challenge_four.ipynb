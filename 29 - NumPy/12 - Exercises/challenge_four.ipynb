{
 "cells": [
  {
   "cell_type": "code",
   "execution_count": 30,
   "id": "a10201e4",
   "metadata": {},
   "outputs": [
    {
     "name": "stdout",
     "output_type": "stream",
     "text": [
      "[['2550' 'Robert Morton' '145-51 107th Ave' 'Jamaica, NY 11435'\n",
      "  '1999-07-08' '917-288-9635' 'America/New_York' '40.68959' '-73.80487']\n",
      " ['4304' 'Stephanie Flynn' '108-20 139th St' 'Jamaica, NY 11435'\n",
      "  '1963-06-12' '838-477-9033' 'America/New_York' '40.68490' '-73.81544']]\n"
     ]
    },
    {
     "data": {
      "text/plain": [
       "['2550Robert Morton145-51 107th AveJamaica, NY 114351999-07-08917-288-9635America/New_York40.68959-73.80487']"
      ]
     },
     "execution_count": 30,
     "metadata": {},
     "output_type": "execute_result"
    }
   ],
   "source": [
    "import csv\n",
    "import numpy as np\n",
    "from dateutil import parser\n",
    "\n",
    "with open(\"noahs-customers.csv\") as customers:\n",
    "    reader = csv.reader(customers)\n",
    "    headers = next(reader)\n",
    "    data = list(reader)\n",
    "    \n",
    "customer_arr = np.array(data)\n",
    "\n",
    "    \n"
   ]
  }
 ],
 "metadata": {
  "kernelspec": {
   "display_name": "Python 3 (ipykernel)",
   "language": "python",
   "name": "python3"
  },
  "language_info": {
   "codemirror_mode": {
    "name": "ipython",
    "version": 3
   },
   "file_extension": ".py",
   "mimetype": "text/x-python",
   "name": "python",
   "nbconvert_exporter": "python",
   "pygments_lexer": "ipython3",
   "version": "3.11.4"
  }
 },
 "nbformat": 4,
 "nbformat_minor": 5
}
