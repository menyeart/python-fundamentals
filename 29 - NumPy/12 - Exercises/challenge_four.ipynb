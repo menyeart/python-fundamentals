{
 "cells": [
  {
   "cell_type": "code",
   "execution_count": 26,
   "id": "a10201e4",
   "metadata": {},
   "outputs": [
    {
     "name": "stdout",
     "output_type": "stream",
     "text": [
      "[['1001' '6878' '2017-01-31 02:56:45' '2017-01-31 09:00:00' '' '0.99']\n",
      " ['1002' '6375' '2017-01-31 04:13:35' '2017-01-31 12:15:00' '' '13.59']\n",
      " ['1003' '8045' '2017-01-31 04:45:12' '2017-01-31 10:45:00' '' '1.23']\n",
      " ...\n",
      " ['214230' '4043' '2022-12-16 23:23:33' '2022-12-17 15:00:00' '' '56.10']\n",
      " ['214231' '3894' '2022-12-16 23:48:43' '2022-12-23 18:15:00' '' '17.48']\n",
      " ['214232' '1368' '2022-12-16 23:49:15' '2022-12-17 18:30:00' '' '12.92']]\n",
      "213232\n",
      "[['PET4571' '1' '0.99']\n",
      " ['PET4491' '1' '1.08']\n",
      " ['TOY7498' '1' '12.51']\n",
      " ...\n",
      " ['PET4978' '1' '1.22']\n",
      " ['DLI7179' '1' '1.25']\n",
      " ['PET3373' '1' '1.20']]\n"
     ]
    }
   ],
   "source": [
    "import csv\n",
    "import numpy as np\n",
    "from dateutil import parser\n",
    "\n",
    "# Facts to go off of:\n",
    "#     - pastries should show up under BKY code in order items / products sku\n",
    "#     - order itmes qty should be greater than 1\n",
    "#     - orders shipped should be before 5am\n",
    "    \n",
    "# Process:\n",
    "#     - Mask order items for quantity > 1\n",
    "#     - Apply mask to order items and orders (or zip orders items and orders first?)\n",
    "#     - Create and apply mask for order items or zipped for skus with BKY sku\n",
    "#     - Create and mask orders or zipped for times before 5am\n",
    "\n",
    "# Import data we need and strip duplicate columns:\n",
    "\n",
    "with open(\"noahs-orders.csv\") as orders:\n",
    "    reader = csv.reader(orders)\n",
    "    headers = next(reader)\n",
    "    data = list(reader)\n",
    "    \n",
    "order_arr = np.array(data)\n",
    "print(order_arr)\n",
    "print(len(order_arr))\n",
    "\n",
    "with open(\"noahs-orders_items.csv\") as orders_items:\n",
    "    reader = csv.reader(orders_items)\n",
    "    headers = next(reader)\n",
    "    data = list(reader)\n",
    "    \n",
    "orders_item_arr = np.array(data)\n",
    "orders_items_without_ids = orders_item_arr[:, np.array([1,2,3])]\n",
    "\n",
    "print(orders_items_without_ids)\n",
    "\n",
    "\n",
    "    \n"
   ]
  }
 ],
 "metadata": {
  "kernelspec": {
   "display_name": "Python 3 (ipykernel)",
   "language": "python",
   "name": "python3"
  },
  "language_info": {
   "codemirror_mode": {
    "name": "ipython",
    "version": 3
   },
   "file_extension": ".py",
   "mimetype": "text/x-python",
   "name": "python",
   "nbconvert_exporter": "python",
   "pygments_lexer": "ipython3",
   "version": "3.11.4"
  }
 },
 "nbformat": 4,
 "nbformat_minor": 5
}
