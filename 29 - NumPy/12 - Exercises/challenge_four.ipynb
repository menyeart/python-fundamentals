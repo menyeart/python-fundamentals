{
 "cells": [
  {
   "cell_type": "code",
   "execution_count": 4,
   "id": "0dea1a28",
   "metadata": {},
   "outputs": [
    {
     "ename": "ModuleNotFoundError",
     "evalue": "No module named 'Pandas'",
     "output_type": "error",
     "traceback": [
      "\u001b[0;31m---------------------------------------------------------------------------\u001b[0m",
      "\u001b[0;31mModuleNotFoundError\u001b[0m                       Traceback (most recent call last)",
      "Cell \u001b[0;32mIn[4], line 4\u001b[0m\n\u001b[1;32m      2\u001b[0m \u001b[38;5;28;01mimport\u001b[39;00m \u001b[38;5;21;01mnumpy\u001b[39;00m \u001b[38;5;28;01mas\u001b[39;00m \u001b[38;5;21;01mnp\u001b[39;00m\n\u001b[1;32m      3\u001b[0m \u001b[38;5;28;01mfrom\u001b[39;00m \u001b[38;5;21;01mdateutil\u001b[39;00m \u001b[38;5;28;01mimport\u001b[39;00m parser\n\u001b[0;32m----> 4\u001b[0m \u001b[38;5;28;01mimport\u001b[39;00m \u001b[38;5;21;01mPandas\u001b[39;00m \u001b[38;5;28;01mas\u001b[39;00m \u001b[38;5;21;01mpd\u001b[39;00m\n\u001b[1;32m      6\u001b[0m \u001b[38;5;66;03m# Orders before 5AM\u001b[39;00m\n\u001b[1;32m      8\u001b[0m \u001b[38;5;28;01mwith\u001b[39;00m \u001b[38;5;28mopen\u001b[39m(\u001b[38;5;124m\"\u001b[39m\u001b[38;5;124mnoahs-orders.csv\u001b[39m\u001b[38;5;124m\"\u001b[39m) \u001b[38;5;28;01mas\u001b[39;00m orders:\n",
      "\u001b[0;31mModuleNotFoundError\u001b[0m: No module named 'Pandas'"
     ]
    }
   ],
   "source": [
    "import csv\n",
    "import numpy as np\n",
    "from dateutil import parser\n",
    "import pandas as pd\n",
    "\n",
    "# Orders before 5AM\n",
    "    \n",
    "with open(\"noahs-orders.csv\") as orders:\n",
    "    reader = csv.reader(orders)\n",
    "    headers = next(reader)\n",
    "    data = list(reader)\n",
    "    \n",
    "order_arr = np.array(data)\n",
    "    \n",
    "shipped_times = order_arr[:, 3]\n",
    "converted_shipped_times = [parser.parse(time).hour for time in shipped_times]\n",
    "time_mask = np.less(np.array(converted_shipped_times), 5)\n",
    "possible_orders = order_arr[time_mask]\n",
    "\n",
    "print(possible_orders)\n",
    "    \n",
    "    \n",
    "# Only order items from the bakery\n",
    "\n",
    "with open(\"noahs-orders_items.csv\") as order_items:\n",
    "    reader = csv.reader(order_items)\n",
    "    headers = next(reader)\n",
    "    data = list(reader)\n",
    "    \n",
    "order_item_arr = np.array(data)\n",
    "    \n",
    "    \n",
    "skus = order_item_arr[:, 1]\n",
    "skus_arr = np.array(skus)\n",
    "part_skus = [sku[0:3] for sku in skus]\n",
    "mask = np.equal(np.array(part_skus), \"BKY\")\n",
    "possible_order_items = order_item_arr[mask]\n",
    "\n",
    "print(len(possible_order_items))\n",
    "\n",
    "# with open(\"noahs-products.csv\") as prods:\n",
    "#     reader = csv.reader(prods)\n",
    "#     headers = next(reader)\n",
    "#     data = list(reader)\n",
    "    \n",
    "# prod_arr= np.array(data)\n",
    "\n",
    "# skus = prod_arr[:, 0]\n",
    "# part_skus = [sku[0:3] for sku in skus]\n",
    "# mask = np.equal(np.array(part_skus), \"BKY\")\n",
    "# possible_products = prod_arr[mask]\n",
    "\n",
    "# print(possible_products)\n",
    "    \n",
    "    \n",
    "\n",
    "\n",
    "    \n",
    "\n",
    "    "
   ]
  }
 ],
 "metadata": {
  "kernelspec": {
   "display_name": "Python 3 (ipykernel)",
   "language": "python",
   "name": "python3"
  },
  "language_info": {
   "codemirror_mode": {
    "name": "ipython",
    "version": 3
   },
   "file_extension": ".py",
   "mimetype": "text/x-python",
   "name": "python",
   "nbconvert_exporter": "python",
   "pygments_lexer": "ipython3",
   "version": "3.11.4"
  }
 },
 "nbformat": 4,
 "nbformat_minor": 5
}
