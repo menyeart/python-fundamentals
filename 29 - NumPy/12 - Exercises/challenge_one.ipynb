{
 "cells": [
  {
   "cell_type": "code",
   "execution_count": 43,
   "id": "8ad2f9ff",
   "metadata": {},
   "outputs": [
    {
     "name": "stdout",
     "output_type": "stream",
     "text": [
      "387\n",
      "[['1004' 'Christopher Rodriguez' '102 Mount Hope Pl' ...\n",
      "  'America/New_York' '40.84939' '-73.90916']\n",
      " ['1005' 'Jeffrey Wilkinson' '17 St Marks Pl' ... 'America/New_York'\n",
      "  '40.72804' '-73.98712']\n",
      " ['1031' 'Christopher Macdonald' '1021 Glenmore Ave' ...\n",
      "  'America/New_York' '40.67752' '-73.87385']\n",
      " ...\n",
      " ['9233' 'Joshua Underwood Jr.' '3332 Catalpa Pl' ... 'America/New_York'\n",
      "  '40.81435' '-73.81281']\n",
      " ['9244' 'Matthew Cervantes Jr.' '132-17 35th Ave' ... 'America/New_York'\n",
      "  '40.76477' '-73.83384']\n",
      " ['9246' 'Morgan Katherine Brown' '1689 Carroll St' ...\n",
      "  'America/New_York' '40.66651' '-73.93252']]\n"
     ]
    }
   ],
   "source": [
    "import csv\n",
    "import numpy as np\n",
    "\n",
    "with open(\"noahs-customers.csv\") as customers:\n",
    "    reader = csv.reader(customers)\n",
    "    headers = next(reader)\n",
    "    data = list(reader)\n",
    "    \n",
    "    arr = np.array(data)\n",
    "    \n",
    "names = arr[: , 1]\n",
    "    \n",
    "name_lens = [[len(name.split()[0]), len(name.split()[1])] for name in names]\n",
    "name_lens_arr = np.array(name_lens)\n",
    "    \n",
    "mask = name_lens_arr[ : , 1] == 9\n",
    "    \n",
    "possible_customers = arr[mask]\n",
    "\n",
    "\n",
    "    "
   ]
  },
  {
   "cell_type": "code",
   "execution_count": 59,
   "id": "057748d9",
   "metadata": {},
   "outputs": [],
   "source": [
    "# Convert number into array of possible names\n",
    "\n",
    "letter_converter = {\n",
    "    \"1\" : [\"fail\"],\n",
    "    \"2\" : [\"a\", \"b\", \"c\"],\n",
    "    \"3\" : [\"d\", \"e\", \"f\"],\n",
    "    \"4\" : [\"g\", \"h\", \"i\"],\n",
    "    \"5\" : [\"j\", \"k\", \"l\"],\n",
    "    \"6\" : [\"m\", \"n\", \"o\"],\n",
    "    \"7\" : [\"p\", \"q\", \"r\", \"s\"],\n",
    "    \"8\" : [\"t\", \"u\", \"v\"],\n",
    "    \"9\" : [\"w\", \"x\", \"y\", \"z\"]\n",
    "}\n",
    "\n",
    "def phone_to_letters(phone):\n",
    "    only_nums = phone.replace(\"-\", \"\")\n",
    "    return [letter_converter[char] for char in only_nums]\n",
    "    \n",
    "\n",
    "    print(possible_customers[0])"
   ]
  }
 ],
 "metadata": {
  "kernelspec": {
   "display_name": "Python 3 (ipykernel)",
   "language": "python",
   "name": "python3"
  },
  "language_info": {
   "codemirror_mode": {
    "name": "ipython",
    "version": 3
   },
   "file_extension": ".py",
   "mimetype": "text/x-python",
   "name": "python",
   "nbconvert_exporter": "python",
   "pygments_lexer": "ipython3",
   "version": "3.11.4"
  }
 },
 "nbformat": 4,
 "nbformat_minor": 5
}
