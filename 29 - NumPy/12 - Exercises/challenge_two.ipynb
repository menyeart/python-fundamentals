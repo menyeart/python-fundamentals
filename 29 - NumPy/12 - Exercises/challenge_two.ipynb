{
 "cells": [
  {
   "cell_type": "code",
   "execution_count": 2,
   "id": "ef48f8e4",
   "metadata": {},
   "outputs": [],
   "source": [
    "# # Import CSV\n",
    "import csv\n",
    "import numpy as np\n",
    "\n",
    "with open(\"noahs-customers.csv\") as customers:\n",
    "    reader = csv.reader(customers)\n",
    "    headers = next(reader)\n",
    "    data = list(reader)\n",
    "    \n",
    "    customers_arr = np.array(data)\n",
    "    \n",
    "# Find all rows of customers with initials JP\n",
    "    \n",
    "customers = customers_arr[:, 1]\n",
    "\n",
    "def name_to_initials(name): \n",
    "    split_name = name.split()\n",
    "    initials = f'{split_name[0][0]}{split_name[-1][0]}'\n",
    "    return initials\n",
    "\n",
    "initials = [name_to_initials(name) for name in customers]\n",
    "initial_arr = np.array(initials)\n",
    "\n",
    "mask = np.equal(initial_arr, \"JP\")\n",
    "\n",
    "only_jps = customers_arr[mask]\n",
    "\n"
   ]
  },
  {
   "cell_type": "code",
   "execution_count": 27,
   "id": "7e197c09",
   "metadata": {},
   "outputs": [
    {
     "name": "stdout",
     "output_type": "stream",
     "text": [
      "{('Justin Pena', '914-666-1491'), ('Judith Phillips', '315-745-8706'), ('Judy Potter', '516-220-1061'), ('James Petersen', '212-709-1204'), ('Joshua Peters', '914-322-7233'), ('Joshua Palmer', '646-748-3078'), ('Joyce Pham', '516-418-8225'), ('James Perez', '516-286-0645'), ('Jonathan Phillips', '838-607-4260'), ('Julie Page', '332-864-1901'), ('Jennifer Patton', '516-540-3459'), ('Joshua Peterson', '332-274-4185'), ('Jacob Padilla', '212-651-2921'), ('Jacob Petersen', '516-976-3761'), ('James Phillips', '516-692-8014'), ('Jessica Peterson', '716-523-7693'), ('John Peterson', '914-336-6985'), ('Joshua Parsons', '516-354-7417'), ('Joshua Potter', '808-789-2162'), ('Jeremiah Perez', '838-218-8348'), ('Justin Perez', '585-747-9197'), ('Joshua Peterson', '516-413-6269'), ('John Patel', '838-427-5584'), ('Jennifer Potter', '631-799-7986'), ('John Payne', '607-441-4161'), ('Judy Page', '516-779-4396'), ('Jeffrey Pace', '516-896-7678'), ('Jessica Perez', '585-258-7335')}\n"
     ]
    }
   ],
   "source": [
    "# Find all orders from 2017\n",
    "\n",
    "from dateutil import parser\n",
    "\n",
    "with open(\"noahs-orders.csv\") as orders:\n",
    "    reader = csv.reader(orders)\n",
    "    headers = next(reader)\n",
    "    data = list(reader)\n",
    "    \n",
    "orders_arr = np.array(data)\n",
    "    \n",
    "dates = orders_arr[ : ,  3]\n",
    "\n",
    "parsed_dates = [parser.parse(date).year for date in dates]\n",
    "\n",
    "year_array = np.array(parsed_dates)\n",
    "\n",
    "mask = np.equal(year_array, 2017)\n",
    "\n",
    "only_2017s = orders_arr[mask]\n",
    "\n",
    "#iterate over arrs of possible customers and possible orders to find id matches\n",
    "# possibles = []\n",
    "\n",
    "# for person in only_jps:\n",
    "#     for order in only_2017s:\n",
    "#         if person[0] == order[1]:\n",
    "#             possibles.append((person[1], person[5]))\n",
    "            \n",
    "possibles = [\n",
    "    (person[1], person[5])\n",
    "    for order in only_2017s \n",
    "    for person in only_jps \n",
    "    if person[0] == order[1] \n",
    "            ]\n",
    "                      \n",
    "print(set(possibles))\n",
    "\n"
   ]
  },
  {
   "cell_type": "code",
   "execution_count": 3,
   "id": "0f27702b",
   "metadata": {},
   "outputs": [
    {
     "ename": "NameError",
     "evalue": "name 'only_2017s' is not defined",
     "output_type": "error",
     "traceback": [
      "\u001b[0;31m---------------------------------------------------------------------------\u001b[0m",
      "\u001b[0;31mNameError\u001b[0m                                 Traceback (most recent call last)",
      "Cell \u001b[0;32mIn[3], line 5\u001b[0m\n\u001b[1;32m      2\u001b[0m possibles \u001b[38;5;241m=\u001b[39m []\n\u001b[1;32m      4\u001b[0m \u001b[38;5;28;01mfor\u001b[39;00m person \u001b[38;5;129;01min\u001b[39;00m only_jps:\n\u001b[0;32m----> 5\u001b[0m     \u001b[38;5;28;01mfor\u001b[39;00m order \u001b[38;5;129;01min\u001b[39;00m \u001b[43monly_2017s\u001b[49m:\n\u001b[1;32m      6\u001b[0m         \u001b[38;5;28;01mif\u001b[39;00m person[\u001b[38;5;241m0\u001b[39m] \u001b[38;5;241m==\u001b[39m order[\u001b[38;5;241m1\u001b[39m]:\n\u001b[1;32m      7\u001b[0m             possibles\u001b[38;5;241m.\u001b[39mappend([person[\u001b[38;5;241m0\u001b[39m], order[\u001b[38;5;241m1\u001b[39m]])\n",
      "\u001b[0;31mNameError\u001b[0m: name 'only_2017s' is not defined"
     ]
    }
   ],
   "source": []
  }
 ],
 "metadata": {
  "kernelspec": {
   "display_name": "Python 3 (ipykernel)",
   "language": "python",
   "name": "python3"
  },
  "language_info": {
   "codemirror_mode": {
    "name": "ipython",
    "version": 3
   },
   "file_extension": ".py",
   "mimetype": "text/x-python",
   "name": "python",
   "nbconvert_exporter": "python",
   "pygments_lexer": "ipython3",
   "version": "3.11.4"
  }
 },
 "nbformat": 4,
 "nbformat_minor": 5
}
