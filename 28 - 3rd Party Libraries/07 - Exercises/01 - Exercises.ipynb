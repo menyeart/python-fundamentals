{
 "cells": [
  {
   "cell_type": "markdown",
   "id": "urban-territory",
   "metadata": {},
   "source": [
    "### Solutions"
   ]
  },
  {
   "cell_type": "markdown",
   "id": "computational-fitness",
   "metadata": {},
   "source": [
    "#### Question 1"
   ]
  },
  {
   "cell_type": "markdown",
   "id": "coral-lending",
   "metadata": {},
   "source": [
    "Use the `pytz` and `dateutil` libraries to convert this string into a UTC naive `datetime` object."
   ]
  },
  {
   "cell_type": "code",
   "execution_count": 6,
   "id": "formal-ability",
   "metadata": {},
   "outputs": [
    {
     "name": "stdout",
     "output_type": "stream",
     "text": [
      "(datetime.datetime(2021, 2, 8, 17, 30), (' ', ' ', ' (Denver Time)'))\n",
      "2021-02-09 00:30:00+00:00\n"
     ]
    }
   ],
   "source": [
    "from dateutil import parser\n",
    "import pytz \n",
    "\n",
    "t = \"Feb 8, 2021 5:30pm (Denver Time)\"\n",
    "\n",
    "denver = parser.parse(t, fuzzy_with_tokens = True)\n",
    "print(denver)\n",
    "\n",
    "utc = denver[0].astimezone(pytz.UTC)\n",
    "print(utc)\n",
    "\n"
   ]
  },
  {
   "cell_type": "markdown",
   "id": "amended-illustration",
   "metadata": {},
   "source": [
    "#### Question 2"
   ]
  },
  {
   "cell_type": "markdown",
   "id": "massive-input",
   "metadata": {},
   "source": [
    "Use the `requests` library to load the following html page:"
   ]
  },
  {
   "cell_type": "code",
   "execution_count": 17,
   "id": "understanding-softball",
   "metadata": {},
   "outputs": [
    {
     "name": "stdout",
     "output_type": "stream",
     "text": [
      "OK\n",
      "200\n",
      "623\n",
      "658\n"
     ]
    },
    {
     "data": {
      "text/plain": [
       "'John von Neumann - Wikipedia'"
      ]
     },
     "execution_count": 17,
     "metadata": {},
     "output_type": "execute_result"
    }
   ],
   "source": [
    "import requests\n",
    "\n",
    "url = 'https://en.wikipedia.org/wiki/John_von_Neumann'\n",
    "\n",
    "response = requests.get(url)\n",
    "print(response.reason)\n",
    "print(response.status_code)\n",
    "text = response.text\n",
    "\n",
    "print(text.find('<title>'))\n",
    "print(text.find('</title>'))\n",
    "\n",
    "text[630:658]"
   ]
  },
  {
   "cell_type": "markdown",
   "id": "systematic-shock",
   "metadata": {},
   "source": [
    "Once you have loaded that page, extract the title of that page, which is the text located between the `<title>` and `</title>` tags (often referred to as opening and closing tags, or start and end tags, respectively)."
   ]
  },
  {
   "cell_type": "markdown",
   "id": "equivalent-divide",
   "metadata": {},
   "source": [
    "Hint: You'll want to read the Python docs for the `find` method available for strings:\n",
    "\n",
    "https://docs.python.org/3/library/stdtypes.html?highlight=string#str.find"
   ]
  },
  {
   "cell_type": "markdown",
   "id": "declared-appreciation",
   "metadata": {},
   "source": [
    "#### Question 3"
   ]
  },
  {
   "cell_type": "markdown",
   "id": "fifth-strength",
   "metadata": {},
   "source": [
    "Use a `GET` request to this URL:"
   ]
  },
  {
   "cell_type": "code",
   "execution_count": 26,
   "id": "coordinated-lounge",
   "metadata": {},
   "outputs": [
    {
     "name": "stdout",
     "output_type": "stream",
     "text": [
      "\"{\\n  \\\"slideshow\\\": {\\n    \\\"author\\\": \\\"Yours Truly\\\", \\n    \\\"date\\\": \\\"date of publication\\\", \\n    \\\"slides\\\": [\\n      {\\n        \\\"title\\\": \\\"Wake up to WonderWidgets!\\\", \\n        \\\"type\\\": \\\"all\\\"\\n      }, \\n      {\\n        \\\"items\\\": [\\n          \\\"Why <em>WonderWidgets</em> are great\\\", \\n          \\\"Who <em>buys</em> WonderWidgets\\\"\\n        ], \\n        \\\"title\\\": \\\"Overview\\\", \\n        \\\"type\\\": \\\"all\\\"\\n      }\\n    ], \\n    \\\"title\\\": \\\"Sample Slide Show\\\"\\n  }\\n}\\n\"\n"
     ]
    }
   ],
   "source": [
    "import json\n",
    "\n",
    "url = 'https://httpbin.org/json'\n",
    "\n",
    "response = requests.get(url)\n",
    "pyth_obj = json.dumps(response.text)\n",
    "print(pyth_obj)\n"
   ]
  },
  {
   "cell_type": "markdown",
   "id": "gross-vatican",
   "metadata": {},
   "source": [
    "Use the response from that request to:\n",
    "- determine the response format\n",
    "- extract the response into a Python object"
   ]
  },
  {
   "cell_type": "markdown",
   "id": "molecular-click",
   "metadata": {},
   "source": [
    "#### Question 4"
   ]
  },
  {
   "cell_type": "markdown",
   "id": "transsexual-simple",
   "metadata": {},
   "source": [
    "Use a `POST` request to call this url:"
   ]
  },
  {
   "cell_type": "code",
   "execution_count": 4,
   "id": "funky-mistress",
   "metadata": {},
   "outputs": [],
   "source": [
    "url = 'https://httpbin.org/anything'"
   ]
  },
  {
   "cell_type": "markdown",
   "id": "diverse-alpha",
   "metadata": {},
   "source": [
    "Make this call passing the following query parameters: `a=1` and `b=2`"
   ]
  },
  {
   "cell_type": "markdown",
   "id": "early-reminder",
   "metadata": {},
   "source": [
    "Also, pass this dictionary as the body of the post request:"
   ]
  },
  {
   "cell_type": "code",
   "execution_count": 5,
   "id": "excessive-mouth",
   "metadata": {},
   "outputs": [],
   "source": [
    "data = {\n",
    "    'x': 100,\n",
    "    'y': 200,\n",
    "    'z': ['a', 'b', 'c']\n",
    "}"
   ]
  },
  {
   "cell_type": "markdown",
   "id": "announced-discharge",
   "metadata": {},
   "source": [
    "Load the returned JSON into a Python object and print it out."
   ]
  }
 ],
 "metadata": {
  "kernelspec": {
   "display_name": "Python 3 (ipykernel)",
   "language": "python",
   "name": "python3"
  },
  "language_info": {
   "codemirror_mode": {
    "name": "ipython",
    "version": 3
   },
   "file_extension": ".py",
   "mimetype": "text/x-python",
   "name": "python",
   "nbconvert_exporter": "python",
   "pygments_lexer": "ipython3",
   "version": "3.11.4"
  }
 },
 "nbformat": 4,
 "nbformat_minor": 5
}
