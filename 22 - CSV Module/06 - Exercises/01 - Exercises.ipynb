{
 "cells": [
  {
   "cell_type": "markdown",
   "id": "sustainable-listening",
   "metadata": {},
   "source": [
    "### Exercises"
   ]
  },
  {
   "cell_type": "markdown",
   "id": "apparent-romance",
   "metadata": {},
   "source": [
    "#### Question 1"
   ]
  },
  {
   "cell_type": "markdown",
   "id": "engaged-audience",
   "metadata": {},
   "source": [
    "Alongside this note book, four CSV files are specified (one is in fact a TSV file)."
   ]
  },
  {
   "cell_type": "markdown",
   "id": "satisfactory-greensboro",
   "metadata": {},
   "source": [
    "For each file, load it using the CSV module, and find the smallest and largest numbers in the data."
   ]
  },
  {
   "cell_type": "markdown",
   "id": "electoral-pathology",
   "metadata": {},
   "source": [
    "All these files contain just lists of numbers - with the exception of a possible header row"
   ]
  },
  {
   "cell_type": "code",
   "execution_count": 50,
   "id": "d454e2de",
   "metadata": {},
   "outputs": [
    {
     "name": "stdout",
     "output_type": "stream",
     "text": [
      "[10.0, 20.0, 30.0]\n",
      "[30.0, 40.0, 50.0]\n",
      "[60.0, 70.0, 80.0]\n",
      "[20.0, 1.0, -2.0]\n",
      "[-1.1, -2.2, -3.3]\n",
      "could not convert string to float: '10|20|30', item is not in the correct format. Dealing with it...\n",
      "['10', '20', '30']\n",
      "could not convert string to float: '-3.14-|-25-|-100-', item is not in the correct format. Dealing with it...\n",
      "['3.14', '25', '100']\n",
      "could not convert string to float: '---3.14-|20|-30-', item is not in the correct format. Dealing with it...\n",
      "['3.14', '20', '30']\n"
     ]
    },
    {
     "data": {
      "text/plain": [
       "('30', '10')"
      ]
     },
     "execution_count": 50,
     "metadata": {},
     "output_type": "execute_result"
    }
   ],
   "source": [
    "csv_1 = 'file1.csv'\n",
    "import csv\n",
    "\n",
    "# with open(csv_1) as f:\n",
    "#     reader = csv.reader(f)\n",
    "#     for row in reader:\n",
    "#         print(row)\n",
    "        \n",
    "def find_big_small(file, csv_type = 'excel'):\n",
    "    num_list = []\n",
    "    \n",
    "    with open(file) as f:\n",
    "        reader = csv.reader(f, dialect = csv_type)\n",
    "        headers = next(reader)\n",
    "        for row in reader:\n",
    "            try:\n",
    "                converted = [float(num) for num in row]\n",
    "                print(converted)\n",
    "            except ValueError as ex:\n",
    "                print(f'{ex}, item is not in the correct format. Dealing with it...')\n",
    "                formatted = row[0].replace('|', ',').replace('-','')\n",
    "                converted = formatted.split(',')\n",
    "                print(converted)\n",
    "            for num in converted:\n",
    "                num_list.append(num)\n",
    "                 \n",
    "    return max(num_list), min(num_list)\n",
    "\n",
    "find_big_small(csv_1)\n",
    "find_big_small('file2.csv')\n",
    "find_big_small('file4.csv')\n",
    "            "
   ]
  },
  {
   "cell_type": "markdown",
   "id": "annoying-anime",
   "metadata": {},
   "source": [
    "#### Question 2"
   ]
  },
  {
   "cell_type": "markdown",
   "id": "wooden-hunter",
   "metadata": {},
   "source": [
    "Given this data structure consisting of a list of dictionaries, write a function that will write this data out to a file, where the column headers (in the first row) are based on the dictionary keys, and the values are flattened out to one row per dictionary (under the corresponding column header)."
   ]
  },
  {
   "cell_type": "markdown",
   "id": "minus-flower",
   "metadata": {},
   "source": [
    "Note that not all dictionaries contain all the same keys, nor are the keys necessarily in the same order when present."
   ]
  },
  {
   "cell_type": "markdown",
   "id": "adverse-sussex",
   "metadata": {},
   "source": [
    "For \"missing\" values, your function should just write an empty string."
   ]
  },
  {
   "cell_type": "markdown",
   "id": "pursuant-cheese",
   "metadata": {},
   "source": [
    "For example, given this `data`:"
   ]
  },
  {
   "cell_type": "code",
   "execution_count": 24,
   "id": "incorporate-marijuana",
   "metadata": {},
   "outputs": [],
   "source": [
    "data = [\n",
    "    {'a': '1_a', 'b': '1_b', 'c': '1_c'},\n",
    "    {'c': '2_c', 'd': '2_d'},\n",
    "    {'a': '3_a', 'c': '3_c', 'e': '3_e'}\n",
    "]"
   ]
  },
  {
   "cell_type": "raw",
   "id": "olive-alcohol",
   "metadata": {},
   "source": [
    "Your output file should look like this:"
   ]
  },
  {
   "cell_type": "markdown",
   "id": "immune-aside",
   "metadata": {},
   "source": [
    "```\n",
    "a,b,c,d,e\n",
    "1_a,1_b,1_c,,,\n",
    ",,2_c,2_d,\n",
    "3_a,,3_c,,3_e\n",
    "```"
   ]
  },
  {
   "cell_type": "markdown",
   "id": "atmospheric-engine",
   "metadata": {},
   "source": [
    "The order of the columns and rows is not important - as long as they match up with respective column headers."
   ]
  }
 ],
 "metadata": {
  "kernelspec": {
   "display_name": "Python 3 (ipykernel)",
   "language": "python",
   "name": "python3"
  },
  "language_info": {
   "codemirror_mode": {
    "name": "ipython",
    "version": 3
   },
   "file_extension": ".py",
   "mimetype": "text/x-python",
   "name": "python",
   "nbconvert_exporter": "python",
   "pygments_lexer": "ipython3",
   "version": "3.11.4"
  }
 },
 "nbformat": 4,
 "nbformat_minor": 5
}
