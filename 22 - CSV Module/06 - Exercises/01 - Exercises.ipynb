{
 "cells": [
  {
   "cell_type": "markdown",
   "id": "sustainable-listening",
   "metadata": {},
   "source": [
    "### Exercises"
   ]
  },
  {
   "cell_type": "markdown",
   "id": "apparent-romance",
   "metadata": {},
   "source": [
    "#### Question 1"
   ]
  },
  {
   "cell_type": "markdown",
   "id": "engaged-audience",
   "metadata": {},
   "source": [
    "Alongside this note book, four CSV files are specified (one is in fact a TSV file)."
   ]
  },
  {
   "cell_type": "markdown",
   "id": "satisfactory-greensboro",
   "metadata": {},
   "source": [
    "For each file, load it using the CSV module, and find the smallest and largest numbers in the data."
   ]
  },
  {
   "cell_type": "markdown",
   "id": "electoral-pathology",
   "metadata": {},
   "source": [
    "All these files contain just lists of numbers - with the exception of a possible header row"
   ]
  },
  {
   "cell_type": "code",
   "execution_count": 106,
   "id": "aae4ebfc",
   "metadata": {},
   "outputs": [
    {
     "name": "stdout",
     "output_type": "stream",
     "text": [
      "[[10.0, 20.0, 30.0], [40.0, 50.0, 60.0], [100.0, 200.0, 300.0]]\n"
     ]
    }
   ],
   "source": [
    "csv_1 = 'file1.csv'\n",
    "import csv\n",
    "\n",
    "# with open(\"file3.tsv\") as f:\n",
    "#     reader = csv.reader(f)\n",
    "#     for row in reader:\n",
    "#         print(row)\n",
    "        \n",
    "def find_big_small(file, csv_type = 'excel'):\n",
    "    num_list = []\n",
    "    \n",
    "    with open(file) as f:\n",
    "        reader = csv.reader(f, dialect = csv_type)\n",
    "        headers = next(reader)\n",
    "        for row in reader:\n",
    "            try:\n",
    "                converted = [float(num) for num in row]\n",
    "            except ValueError as ex:\n",
    "                print(f'{ex}, item is not in the correct format. Dealing with it...')\n",
    "                formatted = row[0].replace('|', ',').replace('-','').split(',')\n",
    "                converted = [float(string) for string in formatted]\n",
    "            for num in converted:\n",
    "                num_list.append(num)\n",
    "                 \n",
    "    return max(num_list), min(num_list)\n",
    "\n",
    "# find_big_small(csv_1)\n",
    "# find_big_small('file2.csv')\n",
    "# find_big_small('file4.csv')\n",
    "# find_big_small('file3.tsv')\n",
    "\n",
    "with open('file3.tsv', 'r') as f:\n",
    "    reader = csv.reader(f, dialect = 'excel', delimiter = '\\t')\n",
    "    next(reader)\n",
    "    data = [[float(str) for str in row] for row in reader]\n",
    "    print(data) "
   ]
  },
  {
   "cell_type": "markdown",
   "id": "annoying-anime",
   "metadata": {},
   "source": [
    "#### Question 2"
   ]
  },
  {
   "cell_type": "markdown",
   "id": "wooden-hunter",
   "metadata": {},
   "source": [
    "Given this data structure consisting of a list of dictionaries, write a function that will write this data out to a file, where the column headers (in the first row) are based on the dictionary keys, and the values are flattened out to one row per dictionary (under the corresponding column header)."
   ]
  },
  {
   "cell_type": "markdown",
   "id": "minus-flower",
   "metadata": {},
   "source": [
    "Note that not all dictionaries contain all the same keys, nor are the keys necessarily in the same order when present."
   ]
  },
  {
   "cell_type": "markdown",
   "id": "adverse-sussex",
   "metadata": {},
   "source": [
    "For \"missing\" values, your function should just write an empty string."
   ]
  },
  {
   "cell_type": "markdown",
   "id": "pursuant-cheese",
   "metadata": {},
   "source": [
    "For example, given this `data`:"
   ]
  },
  {
   "cell_type": "code",
   "execution_count": 147,
   "id": "incorporate-marijuana",
   "metadata": {},
   "outputs": [
    {
     "name": "stdout",
     "output_type": "stream",
     "text": [
      "['c', 'd', 'a', 'e', 'b']\n",
      "[['1_c', '', '1_a', '', '1_b'], ['2_c', '2_d', '', '', ''], ['3_c', '', '3_a', '3_e', '']]\n",
      "['c', 'd', 'a', 'e', 'b']\n",
      "['1_c', '', '1_a', '', '1_b']\n",
      "['2_c', '2_d', '', '', '']\n",
      "['3_c', '', '3_a', '3_e', '']\n"
     ]
    }
   ],
   "source": [
    "data = [\n",
    "    {'a': '1_a', 'b': '1_b', 'c': '1_c'},\n",
    "    {'c': '2_c', 'd': '2_d'},\n",
    "    {'a': '3_a', 'c': '3_c', 'e': '3_e'}\n",
    "]\n",
    "\n",
    "keys = {}\n",
    "for d in data:\n",
    "    keys = keys | d.keys()\n",
    "    \n",
    "keys = list(keys)\n",
    "print(keys)\n",
    "    \n",
    "# Longform\n",
    "# formatted_data = []\n",
    "# for row in data:\n",
    "#     new_row = []\n",
    "#     for key in keys:\n",
    "#         if key not in row.keys():\n",
    "#             new_row.append(\"\")\n",
    "#         else:\n",
    "#             new_row.append(row[key])\n",
    "#     formatted_data.append(new_row)\n",
    "    \n",
    "# Comprehension\n",
    "formatted_data = [\n",
    "    [row[key] if key in row.keys() else \"\" for key in keys]\n",
    "    for row in data]\n",
    "    \n",
    "print(formatted_data)\n",
    "    \n",
    "with open('q3.csv', 'w') as f:\n",
    "    writer = csv.writer(f)\n",
    "    writer.writerow(keys)\n",
    "    for row in formatted_data:\n",
    "        writer.writerow(row)\n",
    "        \n",
    "with open('q3.csv', 'r') as f:\n",
    "    reader = csv.reader(f)\n",
    "    for row in reader:\n",
    "        print(row)\n",
    " "
   ]
  },
  {
   "cell_type": "raw",
   "id": "olive-alcohol",
   "metadata": {},
   "source": [
    "Your output file should look like this:"
   ]
  },
  {
   "cell_type": "markdown",
   "id": "immune-aside",
   "metadata": {},
   "source": [
    "```\n",
    "a,b,c,d,e\n",
    "1_a,1_b,1_c,,,\n",
    ",,2_c,2_d,\n",
    "3_a,,3_c,,3_e\n",
    "```"
   ]
  },
  {
   "cell_type": "markdown",
   "id": "atmospheric-engine",
   "metadata": {},
   "source": [
    "The order of the columns and rows is not important - as long as they match up with respective column headers."
   ]
  }
 ],
 "metadata": {
  "kernelspec": {
   "display_name": "Python 3 (ipykernel)",
   "language": "python",
   "name": "python3"
  },
  "language_info": {
   "codemirror_mode": {
    "name": "ipython",
    "version": 3
   },
   "file_extension": ".py",
   "mimetype": "text/x-python",
   "name": "python",
   "nbconvert_exporter": "python",
   "pygments_lexer": "ipython3",
   "version": "3.11.4"
  }
 },
 "nbformat": 4,
 "nbformat_minor": 5
}
