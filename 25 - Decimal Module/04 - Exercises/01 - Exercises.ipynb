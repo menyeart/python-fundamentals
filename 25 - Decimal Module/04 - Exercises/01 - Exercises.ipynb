{
 "cells": [
  {
   "cell_type": "markdown",
   "id": "material-george",
   "metadata": {},
   "source": [
    "### Exercises"
   ]
  },
  {
   "cell_type": "markdown",
   "id": "conscious-reform",
   "metadata": {},
   "source": [
    "### Question 1"
   ]
  },
  {
   "cell_type": "markdown",
   "id": "filled-payroll",
   "metadata": {},
   "source": [
    "There is a file named `transactions.csv` which is a list of purchases and sales."
   ]
  },
  {
   "cell_type": "markdown",
   "id": "invalid-silence",
   "metadata": {},
   "source": [
    "Write code that loads this data and calculates the total of these purchases and sales."
   ]
  },
  {
   "cell_type": "markdown",
   "id": "human-requirement",
   "metadata": {},
   "source": [
    "Take two approaches - one using floats, and one using Decimal objects. Calculate the difference between the two results."
   ]
  },
  {
   "cell_type": "markdown",
   "id": "irish-fleet",
   "metadata": {},
   "source": [
    "Also, time how long it takes to run your code using floats and using Decimals."
   ]
  },
  {
   "cell_type": "code",
   "execution_count": 15,
   "id": "fc951ac4",
   "metadata": {},
   "outputs": [
    {
     "name": "stdout",
     "output_type": "stream",
     "text": [
      "['timestamp', 'account', 'amount']\n",
      "116387.513065\n",
      "Time: 1.1244986250530928\n",
      "2000000\n"
     ]
    }
   ],
   "source": [
    "import csv\n",
    "import decimal\n",
    "from decimal import Decimal\n",
    "from time import perf_counter\n",
    "\n",
    "\n",
    "with open('transactions.csv') as f:\n",
    "    reader = csv.reader(f)\n",
    "    \n",
    "    headers = next(reader)\n",
    "    print(headers)\n",
    "    \n",
    "    start = perf_counter()\n",
    "    amount_sum = sum([Decimal(line[2]) for line in reader])\n",
    "    end = perf_counter()\n",
    "print(amount_sum)\n",
    "print(f'Time: {end-start}')\n",
    "\n",
    "with open('transactions.csv') as f:\n",
    "    reader = csv.reader(f)\n",
    "    \n",
    "    headers = next(reader)\n",
    "    print(headers)\n",
    "    \n",
    "    start = perf_counter()\n",
    "    amount_sum = sum([Decimal(line[2]) for line in reader])\n",
    "    end = perf_counter()\n",
    "print(amount_sum)\n",
    "print(f'Time: {end-start}')\n",
    "\n",
    "with open('transactions.csv') as f:\n",
    "    reader = csv.reader(f)\n",
    "    \n",
    "    headers = next(reader)\n",
    "    \n",
    "    amount_sum = len([line for line in reader])\n",
    "print(amount_sum)\n"
   ]
  },
  {
   "cell_type": "markdown",
   "id": "united-snowboard",
   "metadata": {},
   "source": [
    "#### Question 2"
   ]
  },
  {
   "cell_type": "code",
   "execution_count": 21,
   "id": "84b91a28",
   "metadata": {},
   "outputs": [
    {
     "name": "stdout",
     "output_type": "stream",
     "text": [
      "Total fees: 125501.66978197 with ROUND_HALF_UP rounding.\n",
      "Total fees: 125501.66977180 with ROUND_HALF_EVEN rounding.\n"
     ]
    }
   ],
   "source": [
    "import csv\n",
    "import decimal\n",
    "from decimal import Decimal\n",
    "\n",
    "\n",
    "def sum_fees_with_round(rounding = decimal.ROUND_HALF_UP):\n",
    "    with decimal.localcontext() as ctx:\n",
    "        ctx.rounding = rounding\n",
    "\n",
    "        with open('transactions.csv') as f:\n",
    "            reader = csv.reader(f)\n",
    "            headers = next(reader)\n",
    "\n",
    "            total_fees = sum([round(abs(Decimal(line[2])) * Decimal('0.00123'), 8) for line in reader])\n",
    "    print(f'Total fees: {total_fees} with {rounding} rounding.')\n",
    "    \n",
    "sum_fees_with_round(rounding = decimal.ROUND_HALF_UP)\n",
    "sum_fees_with_round(rounding = decimal.ROUND_HALF_EVEN)\n",
    "print(f')"
   ]
  },
  {
   "cell_type": "markdown",
   "id": "simple-diary",
   "metadata": {},
   "source": [
    "Using the same file (`transactions.csv`), we now want to calculate a fee on each transaction."
   ]
  },
  {
   "cell_type": "markdown",
   "id": "decimal-williams",
   "metadata": {},
   "source": [
    "Irrespective of whether the transaction was a credit or a debit, we will calculate a `0.123%` transaction fee for the (absolute) values of each transaction."
   ]
  },
  {
   "cell_type": "markdown",
   "id": "brown-finish",
   "metadata": {},
   "source": [
    "**Each** fee calculation precision should be limited to `8` digits after the decimal point (so use `round(val, 8)`)"
   ]
  },
  {
   "cell_type": "markdown",
   "id": "postal-textbook",
   "metadata": {},
   "source": [
    "In addition, any rounding should always round ties away from `0` (`ROUND_HALF_UP`) - and not use Banker's rounding (`ROUND_HALF_EVEN`)."
   ]
  },
  {
   "cell_type": "markdown",
   "id": "undefined-treasure",
   "metadata": {},
   "source": [
    "Only implement this solution using `Decimal` objects, as floats do not offer a rounding algorithm choice, and writing our own rounding algorithm can be overly complicated."
   ]
  },
  {
   "cell_type": "markdown",
   "id": "convenient-hanging",
   "metadata": {},
   "source": [
    "Also calculate the different in the fee totals when using `ROUND_HALF_UP` vs `ROUND_HALF_EVEN`"
   ]
  }
 ],
 "metadata": {
  "kernelspec": {
   "display_name": "Python 3 (ipykernel)",
   "language": "python",
   "name": "python3"
  },
  "language_info": {
   "codemirror_mode": {
    "name": "ipython",
    "version": 3
   },
   "file_extension": ".py",
   "mimetype": "text/x-python",
   "name": "python",
   "nbconvert_exporter": "python",
   "pygments_lexer": "ipython3",
   "version": "3.11.4"
  }
 },
 "nbformat": 4,
 "nbformat_minor": 5
}
