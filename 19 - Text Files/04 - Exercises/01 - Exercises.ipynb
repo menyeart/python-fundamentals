{
 "cells": [
  {
   "cell_type": "markdown",
   "id": "plain-speaking",
   "metadata": {},
   "source": [
    "### Exercises"
   ]
  },
  {
   "cell_type": "markdown",
   "id": "hydraulic-hello",
   "metadata": {},
   "source": [
    "#### Question 1"
   ]
  },
  {
   "cell_type": "markdown",
   "id": "least-intelligence",
   "metadata": {},
   "source": [
    "Write some code that generates a file containing containing rows containing the following data:\n",
    "\n",
    "```\n",
    "i, fibonacci_i, factorial_i, gcd_fibonacci_i_factorial_i\n",
    "```\n",
    "\n",
    "where:\n",
    "- `i`: integer values from `0` to `100`\n",
    "- `fibonacci_i`: the `i`th Fibonacci number\n",
    "- `factorial_i`: the factorial of `i` (`i!`)\n",
    "- `gcd_fib_i_fact_i`: the greatest common denominator of the `i`th Fibonacci number and `i!` \n",
    "\n",
    "Hint: look at the `math.factorial` and `math.gcd` functions in the Python docs\n",
    "\n",
    "Also make sure to include a header row in your file."
   ]
  },
  {
   "cell_type": "code",
   "execution_count": 34,
   "id": "5045db5a",
   "metadata": {},
   "outputs": [
    {
     "data": {
      "text/plain": [
       "'0, 1, 1, 1\\n'"
      ]
     },
     "execution_count": 34,
     "metadata": {},
     "output_type": "execute_result"
    }
   ],
   "source": [
    "import math\n",
    "from functools import lru_cache\n",
    "\n",
    "@lru_cache\n",
    "def fibonacci(num):\n",
    "    return 1 if num == 0 or num == 1 else fibonacci(i - 1) + fibonacci(i - 2)\n",
    "    \n",
    "with open('test.csv', 'w') as file:\n",
    "    file.write('INTEGER, FIBONACCI NUMBER, FACTORIAL, GCD\\n')\n",
    "    for i in range(100):\n",
    "        fac = math.factorial(i)\n",
    "        file.write(f'{i}, {fibonacci(i)}, {fac}, {math.gcd(fibonacci(i), fac)}\\n')\n",
    "\n",
    "with open('test.csv', 'r') as file:\n",
    "    data = file.readlines()\n"
   ]
  },
  {
   "cell_type": "markdown",
   "id": "consistent-lying",
   "metadata": {},
   "source": [
    "For example, the first few rows in your file should contain this data:"
   ]
  },
  {
   "cell_type": "markdown",
   "id": "express-distinction",
   "metadata": {},
   "source": [
    "```\n",
    "i,fib,fact,gcd\n",
    "0,1,1,1\n",
    "1,1,1,1\n",
    "2,2,2,2\n",
    "3,3,6,3\n",
    "4,5,24,1\n",
    "5,8,120,8\n",
    "```"
   ]
  },
  {
   "cell_type": "code",
   "execution_count": null,
   "id": "7c4eb479",
   "metadata": {},
   "outputs": [],
   "source": []
  },
  {
   "cell_type": "markdown",
   "id": "north-voice",
   "metadata": {},
   "source": [
    "#### Question 2"
   ]
  },
  {
   "cell_type": "markdown",
   "id": "boring-veteran",
   "metadata": {},
   "source": [
    "Using the file you just generated, write three functions:\n",
    "- `fib`\n",
    "- `fact`\n",
    "- `gcd_fib_fact`\n",
    "\n",
    "that perform the same calculations as our original `fib` function, the `math` module's `factorial` and the `gcd` of the corresponding fibonacci and factorial numbers, but uses the data that was saved in the file as a cache/lookup mechanism - i.e. just use the numbers in the file if they are available, otherwise make the calculation."
   ]
  },
  {
   "cell_type": "code",
   "execution_count": 112,
   "id": "f732954f",
   "metadata": {},
   "outputs": [
    {
     "name": "stdout",
     "output_type": "stream",
     "text": [
      "8\n",
      "120\n",
      "8\n"
     ]
    }
   ],
   "source": [
    "import math\n",
    "from functools import lru_cache\n",
    "\n",
    "@lru_cache\n",
    "def fibonacci(num):\n",
    "    return 1 if num == 0 or num == 1 else fibonacci(i - 1) + fibonacci(i - 2)\n",
    "\n",
    "def grab_data(which, line):\n",
    "    options = {'fib': 1, 'fact': 2, 'gcd_fib_fact': 3}\n",
    "    return int(line[options[which]])\n",
    "\n",
    "def open_find_format(num):\n",
    "    with open('test.csv', 'r') as file:\n",
    "        data = file.readlines()\n",
    "        parsed = data[num][0:-1].split(\", \")\n",
    "        return parsed\n",
    "              \n",
    "def fib(num):\n",
    "    if num > 100:\n",
    "        return fibonacci(num)\n",
    "    else:\n",
    "        return grab_data('fib', open_find_format(num))\n",
    "    \n",
    "def fact(num):\n",
    "    if num > 100:\n",
    "        return math.fact(num)\n",
    "    else:\n",
    "        return grab_data('fact', open_find_format(num))\n",
    "\n",
    "def gcd_fib_fact(num):\n",
    "    if num > 100:\n",
    "        return math.fact(num)\n",
    "    else:\n",
    "        return grab_data('gcd_fib_fact', open_find_format(num))\n",
    "    \n",
    "print(fib(6))\n",
    "print(fact(6))\n",
    "print(gcd_fib_fact(6))\n",
    "        "
   ]
  },
  {
   "cell_type": "code",
   "execution_count": null,
   "id": "0c0e8b1d",
   "metadata": {},
   "outputs": [],
   "source": []
  }
 ],
 "metadata": {
  "kernelspec": {
   "display_name": "Python 3 (ipykernel)",
   "language": "python",
   "name": "python3"
  },
  "language_info": {
   "codemirror_mode": {
    "name": "ipython",
    "version": 3
   },
   "file_extension": ".py",
   "mimetype": "text/x-python",
   "name": "python",
   "nbconvert_exporter": "python",
   "pygments_lexer": "ipython3",
   "version": "3.11.4"
  }
 },
 "nbformat": 4,
 "nbformat_minor": 5
}
