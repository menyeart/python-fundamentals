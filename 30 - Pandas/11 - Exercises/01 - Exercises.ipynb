{
 "cells": [
  {
   "cell_type": "markdown",
   "id": "sacred-massage",
   "metadata": {},
   "source": [
    "### Exercises"
   ]
  },
  {
   "cell_type": "markdown",
   "id": "purple-invalid",
   "metadata": {},
   "source": [
    "#### Question 1"
   ]
  },
  {
   "cell_type": "markdown",
   "id": "ideal-vocabulary",
   "metadata": {},
   "source": [
    "Alongside this notebook is a data file named `daily_quotes.csv` which contains EOD OHLC/Volume data for a small number of equities over a 6 month period."
   ]
  },
  {
   "cell_type": "markdown",
   "id": "physical-orlando",
   "metadata": {},
   "source": [
    "The first step is to load up this data into a dataframe, ensuring that all data types are correct (datetime objects for dates, floats for OHLC data, and integers for Volume)."
   ]
  },
  {
   "cell_type": "markdown",
   "id": "subsequent-collection",
   "metadata": {},
   "source": [
    "Write a function that receives the file name as an argument and returns a dataframe that:\n",
    "- has the correct data type for each column (`str`, `float`, `int`)\n",
    "- has a row index based on the `symbol` column"
   ]
  },
  {
   "cell_type": "markdown",
   "id": "coral-daily",
   "metadata": {},
   "source": [
    "In addition, we would like our dataframe to contain columns named and ordered in a specific way:\n",
    "- symbol (`str`)\n",
    "- date (`datetime`)\n",
    "- open (`float`)\n",
    "- high (`float`)\n",
    "- low (`float`)\n",
    "- close (`float`)\n",
    "- volume (`int`)\n",
    "\n",
    "(with `symbol` being used as the row index)"
   ]
  },
  {
   "cell_type": "markdown",
   "id": "celtic-correspondence",
   "metadata": {},
   "source": [
    "Hint: \n",
    "\n",
    "You will want to read up the Pandas docs for `read_csv` to see how you can handle datetime data directly while loading the data (in particular you should look at the `parse_dates` option):\n",
    "\n",
    "https://pandas.pydata.org/pandas-docs/stable/reference/api/pandas.read_csv.html\n",
    "\n",
    "Alternatively, you could convert these objects into proper datetime types after loading by using the Pandas function `to_datetime`, documented here:\n",
    "\n",
    "https://pandas.pydata.org/pandas-docs/stable/reference/api/pandas.to_datetime.html\n",
    "\n",
    "and then use conatenation to build up a dataframe that replaces the \"old\" `date` column with the \"new\" (properly typed) column."
   ]
  },
  {
   "cell_type": "code",
   "execution_count": 1,
   "id": "e5491c5d",
   "metadata": {},
   "outputs": [
    {
     "name": "stdout",
     "output_type": "stream",
     "text": [
      "             date       open         high        low     close  volume\n",
      "symbol                                                                \n",
      "AMZN   2020-09-18  2954.9100    8892580.0  3031.7400  3037.800    2905\n",
      "GOOG   2020-10-30  1621.0100    4330862.0  1672.1100  1687.000    1604\n",
      "AAPL   2020-08-24   125.8575  345937760.0   128.6975   128.785     123\n",
      "MSFT   2021-01-27   232.9000   69870640.0   238.0000   240.440     230\n"
     ]
    }
   ],
   "source": [
    "import numpy as np\n",
    "import pandas as pd\n",
    "from dateutil import parser\n",
    "\n",
    "# Import\n",
    "\n",
    "quotes = pd.read_csv(\n",
    "    'daily_quotes.csv',\n",
    "    header = 0,\n",
    "    usecols = [0, 1, 4, 5, 6, 2, 3],\n",
    "    names = ['symbol', 'date', 'open', 'high', 'low', 'close', 'volume'],\n",
    "    index_col = 0\n",
    ")\n",
    "\n",
    "# Changes dates into datetime objects\n",
    "\n",
    "dates = [(parser.parse(date)).strftime(\"%m/%d/%Y\") for date in quotes['date']]\n",
    "\n",
    "pd_dates = pd.to_datetime(dates)\n",
    "\n",
    "quotes['date'] = pd_dates\n",
    "\n",
    "# Change high into float 64\n",
    "\n",
    "highs = quotes['high']\n",
    "\n",
    "converted_highs = highs.astype('float64')\n",
    "\n",
    "quotes['high'] = converted_highs\n",
    "\n",
    "# Convert volume into ints\n",
    "\n",
    "vols = quotes['volume']\n",
    "\n",
    "converted_vols = vols.astype('int64')\n",
    "\n",
    "quotes['volume'] = converted_vols\n",
    "\n",
    "\n",
    "# Question 2 Create a similar frame for row/data with the highest volume\n",
    "\n",
    "volume = quotes['volume']\n",
    "\n",
    "max_vol = volume.max()\n",
    "\n",
    "mask = np.equal(volume, max_vol)\n",
    "\n",
    "info = quotes[mask]\n",
    "\n",
    "# In a function\n",
    "\n",
    "def get_max(dataframe, col_name):\n",
    "    column = dataframe[col_name]  \n",
    "    return dataframe[np.equal(column, column.max())]\n",
    "    \n",
    "\n",
    "# Question 3 (Return the same info as question 2 but for the largest high-low spread)\n",
    "\n",
    "highs = quotes['high']\n",
    "lows = quotes['low']\n",
    "spreads = abs(highs - lows)\n",
    "max_spread = spreads.max()\n",
    "mask = np.equal(spreads, max_spread)\n",
    "highest_info = quotes[mask]\n",
    "\n",
    "# In a function \n",
    "\n",
    "def find_largest_spread_info(dataframe):\n",
    "    spreads = abs(dataframe['high'] - dataframe['low'])\n",
    "    return dataframe[np.equal(spreads, spreads.max())]\n",
    "\n",
    "# Question 4\n",
    "syms = set(quotes.index)\n",
    "\n",
    "quotes.insert(5, \"spread\", abs(quotes['high'] - quotes['low']), True )\n",
    "\n",
    "max_spreads = pd.concat([ find_largest_spread_info(quotes.loc[sym]) for sym in syms ])\n",
    "\n",
    "# As a function\n",
    "\n",
    "def find_max_spreads(dataframe):\n",
    "    unique_syms = set(dataframe.index)\n",
    "    dataframe.insert(5, \"spread\", abs(quotes['high'] - quotes['low']), True )\n",
    "    max_spreads = pd.concat([ find_largest_spread_info(dataframe.loc[sym]) for sym in unique_syms ])\n",
    "    return max_spreads.drop('spread', axis=1)\n",
    "\n",
    "print(find_max_spreads(quotes))"
   ]
  },
  {
   "cell_type": "markdown",
   "id": "illegal-chaos",
   "metadata": {},
   "source": [
    "#### Question 2"
   ]
  },
  {
   "cell_type": "markdown",
   "id": "illegal-communication",
   "metadata": {},
   "source": [
    "Write a function that, given a dataframe sructured as the one we created in Question 1 and a symbol name as a string (e.g. `AAPL`, `MSFT`, etc), will:\n",
    "- return a similarly structured dataframe consisting of the row (or rows) containing the records with the highest volume for the given symbol\n",
    "- raises a `ValueError` if the symbol is not in the dataframe\n"
   ]
  },
  {
   "cell_type": "markdown",
   "id": "spoken-facing",
   "metadata": {},
   "source": [
    "#### Question 3"
   ]
  },
  {
   "cell_type": "markdown",
   "id": "centered-margin",
   "metadata": {},
   "source": [
    "Using the same dataframe as in the preceding questions, our goal now is to write a function that will return, for a specific symbol, the row that had the largest high-low spread."
   ]
  },
  {
   "cell_type": "markdown",
   "id": "appropriate-litigation",
   "metadata": {},
   "source": [
    "Write a function to do that - it should just return a dataframe with the row (or rows) with the largest high-low spread."
   ]
  },
  {
   "cell_type": "markdown",
   "id": "fundamental-magazine",
   "metadata": {},
   "source": [
    "#### Question 4"
   ]
  },
  {
   "cell_type": "markdown",
   "id": "structured-coral",
   "metadata": {},
   "source": [
    "Using the same dataframe as the preceding questions, write a function that returns a single dataframe containing the record(s) with maximum high-low spread for each symbol in the dataframe. (Do not hardcode symbol names in this function - instead you should recover the possible symbol names from the data itself)."
   ]
  },
  {
   "cell_type": "markdown",
   "id": "warming-oriental",
   "metadata": {},
   "source": [
    "The returned dataframe should have the same structure as the original dataframe, but just contain the rows of maximum high-low spread for each symbol."
   ]
  }
 ],
 "metadata": {
  "kernelspec": {
   "display_name": "Python 3 (ipykernel)",
   "language": "python",
   "name": "python3"
  },
  "language_info": {
   "codemirror_mode": {
    "name": "ipython",
    "version": 3
   },
   "file_extension": ".py",
   "mimetype": "text/x-python",
   "name": "python",
   "nbconvert_exporter": "python",
   "pygments_lexer": "ipython3",
   "version": "3.11.4"
  }
 },
 "nbformat": 4,
 "nbformat_minor": 5
}
