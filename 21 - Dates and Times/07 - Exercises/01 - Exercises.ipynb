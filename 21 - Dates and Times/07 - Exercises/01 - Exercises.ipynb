{
 "cells": [
  {
   "cell_type": "markdown",
   "id": "anonymous-accounting",
   "metadata": {},
   "source": [
    "### Exercises"
   ]
  },
  {
   "cell_type": "markdown",
   "id": "nominated-african",
   "metadata": {},
   "source": [
    "#### Question 1"
   ]
  },
  {
   "cell_type": "markdown",
   "id": "hungry-vietnam",
   "metadata": {},
   "source": [
    "Write a function that, given an epoch timestamp, returns a `datetime` object set to the beginning of that month (so midnight of the first day of the month)."
   ]
  },
  {
   "cell_type": "markdown",
   "id": "false-fountain",
   "metadata": {},
   "source": [
    "For example, given the epoch time `12345678.9`, your function should return:\n",
    "```\n",
    "datetime.datetime(1970, 5, 1, 0, 0)\n",
    "```"
   ]
  },
  {
   "cell_type": "code",
   "execution_count": 14,
   "id": "cf13de0f",
   "metadata": {},
   "outputs": [
    {
     "data": {
      "text/plain": [
       "datetime.datetime(1970, 5, 1, 0, 0)"
      ]
     },
     "execution_count": 14,
     "metadata": {},
     "output_type": "execute_result"
    }
   ],
   "source": [
    "from datetime import datetime, date, time\n",
    "epoch = 12345678.9\n",
    "\n",
    "def build_time_obj(epoch):\n",
    "    dt = datetime.fromtimestamp(epoch)\n",
    "    return datetime(year = dt.year, month = dt.month, day = 1)\n",
    "\n",
    "build_time_obj(epoch)"
   ]
  },
  {
   "cell_type": "markdown",
   "id": "photographic-willow",
   "metadata": {},
   "source": [
    "#### Question 2"
   ]
  },
  {
   "cell_type": "markdown",
   "id": "mexican-cooperative",
   "metadata": {},
   "source": [
    "Write a function that returns the difference in hours between two dates provided as Python standard ISO formatted strings, rounded to the nearest hour. For simplicity, assume that these dates do not contain fractional seconds."
   ]
  },
  {
   "cell_type": "markdown",
   "id": "underlying-concord",
   "metadata": {},
   "source": [
    "For example, given these two dates:\n",
    "```\n",
    "2001-01-01T13:50:23\n",
    "```\n",
    "\n",
    "and \n",
    "```\n",
    "2001-06-12T14:23:50\n",
    "```\n",
    "\n",
    "your result should be `3889` hours."
   ]
  },
  {
   "cell_type": "code",
   "execution_count": 23,
   "id": "188cbbd6",
   "metadata": {},
   "outputs": [
    {
     "data": {
      "text/plain": [
       "3889"
      ]
     },
     "execution_count": 23,
     "metadata": {},
     "output_type": "execute_result"
    }
   ],
   "source": [
    "from datetime import date, time, datetime\n",
    "\n",
    "def find_hours_difference(start_date, end_date):\n",
    "    start = datetime.fromisoformat(start_date)\n",
    "    end = datetime.fromisoformat(end_date)\n",
    "    delta = end - start\n",
    "    hours = delta.total_seconds() / 3600\n",
    "    return round(hours)\n",
    "\n",
    "find_hours_difference('2001-01-01T13:50:23', '2001-06-12T14:23:50')"
   ]
  },
  {
   "cell_type": "markdown",
   "id": "promising-demand",
   "metadata": {},
   "source": [
    "### Question 3"
   ]
  },
  {
   "cell_type": "markdown",
   "id": "fewer-reception",
   "metadata": {},
   "source": [
    "Write a function that can be used to consistently format `datetime` objects into strings with some default format, but allows the caller to override the default format."
   ]
  },
  {
   "cell_type": "markdown",
   "id": "conditional-mason",
   "metadata": {},
   "source": [
    "For example, the default format could be `mm/dd/yyyy hh:mm:ss am/pm`, but your function allows itself to be called with some argument that can override that format."
   ]
  },
  {
   "cell_type": "code",
   "execution_count": 33,
   "id": "c1598bc1",
   "metadata": {},
   "outputs": [
    {
     "data": {
      "text/plain": [
       "'02/01/20 01:34:05PM'"
      ]
     },
     "execution_count": 33,
     "metadata": {},
     "output_type": "execute_result"
    }
   ],
   "source": [
    "from datetime import datetime\n",
    "\n",
    "def format_datetime(dt, format = '%m/%d/%y %I:%M:%S%p'):\n",
    "    return dt.strftime(format)\n",
    "                     \n",
    "now = datetime(2020, 2, 1, 13, 34, 5)\n",
    "format_datetime(now)\n",
    "                     \n",
    "\n",
    "    "
   ]
  }
 ],
 "metadata": {
  "kernelspec": {
   "display_name": "Python 3 (ipykernel)",
   "language": "python",
   "name": "python3"
  },
  "language_info": {
   "codemirror_mode": {
    "name": "ipython",
    "version": 3
   },
   "file_extension": ".py",
   "mimetype": "text/x-python",
   "name": "python",
   "nbconvert_exporter": "python",
   "pygments_lexer": "ipython3",
   "version": "3.11.4"
  }
 },
 "nbformat": 4,
 "nbformat_minor": 5
}
