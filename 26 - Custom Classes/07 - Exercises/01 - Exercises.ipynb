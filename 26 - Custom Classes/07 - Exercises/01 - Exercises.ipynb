{
 "cells": [
  {
   "cell_type": "markdown",
   "id": "intimate-skirt",
   "metadata": {},
   "source": [
    "### Solutions"
   ]
  },
  {
   "cell_type": "markdown",
   "id": "compliant-pavilion",
   "metadata": {},
   "source": [
    "#### Question 1"
   ]
  },
  {
   "cell_type": "markdown",
   "id": "private-theory",
   "metadata": {},
   "source": [
    "Write a custom class that will be used to model a single bank account."
   ]
  },
  {
   "cell_type": "markdown",
   "id": "greenhouse-anchor",
   "metadata": {},
   "source": [
    "Your class should implement functionality to:\n",
    "- allow initialization with values for `first_name`, `last_name`, `account_number`, `balance`, `is_overdraft_allowed`\n",
    "- keep track of a \"ledger\" that keeps a record all transactions (just use a list to keep track of this)\n",
    "    - at a minimum it should keep track of the transaction date (the current UTC datetime) and the amount (positive, or negative to indicate deposits/withdrawals) - later you could add tracking the running balance as well.\n",
    "- provide read-only properties for `first_name`, `last_name`, `account_number` and `balance`\n",
    "- provide a property to access the ledger in such a way that a user of this class cannot mutate the ledger directly\n",
    "- provide a read-write property for `is_overdraft_allowed` that indicates whether overdrafts are allowed on the account.\n",
    "- provide methods to debit (`def withdraw`) and credit (`def deposit`) transactions that:\n",
    "    - verify withdrawals against available balance and `is_overdraft_allowed` flag\n",
    "        - if withdrawal is larger than available balance and overdrafts are not allowed, this should raise a custom `OverdraftNotAllowed` exception.\n",
    "        - if transaction value is not positive, this should raise a `ValueError` exception (we have separate methods for deposits and withdrawals, and we expect the value to be positive in both cases - one will add to the balance, one will subtract from the balance).\n",
    "    - add an entry to the ledger with a current UTC timestamp (positive or negative to indicate credit/debit)\n",
    "    - keeps the available balance updated\n",
    "- implements a good string representation for the instance (maybe something like `first_name last_name (account_number): balance`"
   ]
  },
  {
   "cell_type": "markdown",
   "id": "cultural-point",
   "metadata": {},
   "source": [
    "Feel free to expand on the minimum definition I have given here and enhance your custom class."
   ]
  },
  {
   "cell_type": "code",
   "execution_count": 14,
   "id": "a07c008e",
   "metadata": {},
   "outputs": [
    {
     "name": "stdout",
     "output_type": "stream",
     "text": [
      "Withdrawal completed, current balance is 500\n",
      "500\n",
      "(<__main__.Transaction object at 0x111196b90>,)\n",
      "Deposit completed, current balance is 750\n"
     ]
    },
    {
     "data": {
      "text/plain": [
       "True"
      ]
     },
     "execution_count": 14,
     "metadata": {},
     "output_type": "execute_result"
    }
   ],
   "source": [
    "import datetime\n",
    "\n",
    "class Transaction:\n",
    "    def __init__(self, amount):\n",
    "        self.amount = amount\n",
    "        self.date = datetime.datetime\n",
    "    def __str__ (self):\n",
    "        return f'Transaction date: {self.date} Amount: {amount}'\n",
    "        \n",
    "\n",
    "class BankAccount:\n",
    "    def __init__(self, first_name, last_name, account_number, balance, is_overdraft_allowed = False):\n",
    "        self._first_name = first_name\n",
    "        self._last_name = last_name\n",
    "        self._account_number = account_number\n",
    "        self._balance = balance\n",
    "        self.is_overdraft_allowed = is_overdraft_allowed\n",
    "        self._ledger = []\n",
    "        \n",
    "    @property\n",
    "    def ledger(self):\n",
    "        return tuple(self._ledger)\n",
    "        \n",
    "    @property\n",
    "    def first_name(self):\n",
    "        return self._first_name\n",
    "    \n",
    "    @property\n",
    "    def last_name(self):\n",
    "        return self._last_name\n",
    "    \n",
    "    @property\n",
    "    def account_number(self):\n",
    "        return self._account_number\n",
    "    \n",
    "    @property\n",
    "    def balance(self):\n",
    "        return self._balance\n",
    "    \n",
    "    @property\n",
    "    def is_overdraft_allowed(self):\n",
    "        return self._is_overdraft_allowed\n",
    "                              \n",
    "    @is_overdraft_allowed.setter\n",
    "    def is_overdraft_allowed(self, value):\n",
    "        if not isinstance(value, bool):\n",
    "            raise ValueError('The value must be true or false')\n",
    "        self._is_overdraft_allowed = value\n",
    "    \n",
    "    \n",
    "    def withdraw(self, amount):\n",
    "        if amount < 0:\n",
    "            raise ValueError('Withdrawal amounts must be greater than zero.')\n",
    "        elif amount > self.balance and self.is_overdraft_allowed == false:\n",
    "            raise ValueError('Overdraft not allowed, withdraw must be less than balance.')\n",
    "        else:\n",
    "            self._balance -= amount\n",
    "            self._ledger.append(str(Transaction(amount)))\n",
    "        print(f'Withdrawal completed, current balance is {self.balance}')\n",
    "        \n",
    "    def deposit(self, amount):\n",
    "        if amount <= 0:\n",
    "            raise ValueError('Deposit amounts must be greater than zero.')\n",
    "        else:\n",
    "            self._balance += amount\n",
    "            self._ledger.append(str(Transaction(amount))\n",
    "        print(f'Deposit completed, current balance is {self.balance}')\n",
    "        \n",
    "    def __eq__ (self, other):\n",
    "        return self.account_number == other\n",
    "        \n",
    "            \n",
    "acct = BankAccount('Matt', 'Enyeart', 111111, 1000)\n",
    "acct2 = BankAccount('M', 'E', 111111, 1000)\n",
    "acct.first_name\n",
    "acct.last_name\n",
    "acct.account_number\n",
    "acct.balance\n",
    "acct.is_overdraft_allowed\n",
    "acct.ledger\n",
    "\n",
    "acct.withdraw(500)\n",
    "print(acct.balance)\n",
    "print(acct.ledger)\n",
    "acct.deposit(250)\n",
    "acct.balance\n",
    "acct.ledger\n",
    "acct == acct2\n",
    "\n",
    "\n",
    "\n",
    "\n",
    "\n",
    "\n",
    "            \n",
    "        \n",
    "    "
   ]
  },
  {
   "cell_type": "markdown",
   "id": "weekly-working",
   "metadata": {},
   "source": [
    "#### Question 2"
   ]
  },
  {
   "cell_type": "markdown",
   "id": "accompanied-collaboration",
   "metadata": {},
   "source": [
    "Expand on your class above to implement equality (`==`) comparisons between instances of your class."
   ]
  },
  {
   "cell_type": "markdown",
   "id": "acceptable-creek",
   "metadata": {},
   "source": [
    "Two accounts should be considered equal if the account numbers are the same."
   ]
  }
 ],
 "metadata": {
  "kernelspec": {
   "display_name": "Python 3 (ipykernel)",
   "language": "python",
   "name": "python3"
  },
  "language_info": {
   "codemirror_mode": {
    "name": "ipython",
    "version": 3
   },
   "file_extension": ".py",
   "mimetype": "text/x-python",
   "name": "python",
   "nbconvert_exporter": "python",
   "pygments_lexer": "ipython3",
   "version": "3.11.4"
  }
 },
 "nbformat": 4,
 "nbformat_minor": 5
}
