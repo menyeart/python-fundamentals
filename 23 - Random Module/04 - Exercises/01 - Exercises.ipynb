{
 "cells": [
  {
   "cell_type": "markdown",
   "id": "willing-privacy",
   "metadata": {},
   "source": [
    "### Exercises"
   ]
  },
  {
   "cell_type": "markdown",
   "id": "biological-eugene",
   "metadata": {},
   "source": [
    "#### Question 1"
   ]
  },
  {
   "cell_type": "markdown",
   "id": "convertible-romance",
   "metadata": {},
   "source": [
    "Generate the sample space of rolling two 6-sided dice, numbered `'9', '10', 'J', 'Q', 'K', 'A'`."
   ]
  },
  {
   "cell_type": "markdown",
   "id": "stock-relations",
   "metadata": {},
   "source": [
    "(The sample space is the set of all possible outcomes)."
   ]
  },
  {
   "cell_type": "markdown",
   "id": "strong-russia",
   "metadata": {},
   "source": [
    "Your result should be a list containing tuples for the outcome of each die, e.g.\n",
    "\n",
    "```\n",
    "[('9', '9'),\n",
    " ('9', '10'),\n",
    " ('9', 'J'),\n",
    " ('9', 'Q'),\n",
    " ('9', 'K'),\n",
    " ('9', 'A'),\n",
    " ('10', '9'),\n",
    " ('10', '10'),\n",
    " ('10', 'J'),\n",
    " ('10', 'Q'),\n",
    " ('10', 'K'),\n",
    " ('10', 'A'),\n",
    " etc\n",
    "```"
   ]
  },
  {
   "cell_type": "markdown",
   "id": "chicken-proceeding",
   "metadata": {},
   "source": [
    "Make this a function that returns the sample space, called `make_sample_space`."
   ]
  },
  {
   "cell_type": "code",
   "execution_count": 18,
   "id": "c257891c",
   "metadata": {},
   "outputs": [
    {
     "name": "stdout",
     "output_type": "stream",
     "text": [
      "[('9', '9'), ('10', '9'), ('J', '9'), ('Q', '9'), ('K', '9'), ('A', '9'), ('9', '10'), ('10', '10'), ('J', '10'), ('Q', '10'), ('K', '10'), ('A', '10'), ('9', 'J'), ('10', 'J'), ('J', 'J'), ('Q', 'J'), ('K', 'J'), ('A', 'J'), ('9', 'Q'), ('10', 'Q'), ('J', 'Q'), ('Q', 'Q'), ('K', 'Q'), ('A', 'Q'), ('9', 'K'), ('10', 'K'), ('J', 'K'), ('Q', 'K'), ('K', 'K'), ('A', 'K'), ('9', 'A'), ('10', 'A'), ('J', 'A'), ('Q', 'A'), ('K', 'A'), ('A', 'A')]\n"
     ]
    }
   ],
   "source": [
    "import random\n",
    "\n",
    "random.seed(0)\n",
    "\n",
    "outcomes = ['9', '10', 'J', 'Q', 'K', 'A']\n",
    "\n",
    "all_rolls = []\n",
    "\n",
    "for i in outcomes: \n",
    "    for j in outcomes:\n",
    "        all_rolls.append((i,j))\n",
    "        \n",
    "# print(all_rolls)\n",
    "\n",
    "all_rolls2 = [(i, j) for j in outcomes for i in outcomes]\n",
    "\n",
    "print(all_rolls2)\n",
    "\n",
    "def make_sample_space(choices):\n",
    "    return [\n",
    "        (i, j) for j in outcomes for i in outcomes\n",
    "    ]\n",
    "        \n",
    "\n",
    "\n",
    "\n"
   ]
  },
  {
   "cell_type": "markdown",
   "id": "searching-footwear",
   "metadata": {},
   "source": [
    "#### Question 2"
   ]
  },
  {
   "cell_type": "markdown",
   "id": "matched-opening",
   "metadata": {},
   "source": [
    "Using the sample space you just created above, simulate throwing the two die `n` times by making random choices from the sample space."
   ]
  },
  {
   "cell_type": "markdown",
   "id": "olive-athens",
   "metadata": {},
   "source": [
    "Again, make this into a function that returns the random choices as a list of tuples, with `n` as a parameter of this function.\n",
    "\n",
    "Call the function `simulate_throws_from_sample_space`."
   ]
  },
  {
   "cell_type": "code",
   "execution_count": 24,
   "id": "ebbb87f8",
   "metadata": {},
   "outputs": [
    {
     "data": {
      "text/plain": [
       "[('9', 'A'), ('Q', 'K'), ('Q', 'J')]"
      ]
     },
     "execution_count": 24,
     "metadata": {},
     "output_type": "execute_result"
    }
   ],
   "source": [
    "def simulate_throws_from_sample_space(sample_space, n):\n",
    "    return random.choices(sample_space, k = n)\n",
    "\n",
    "simulate_throws_from_sample_space(make_sample_space(outcomes), 3)\n",
    "\n"
   ]
  },
  {
   "cell_type": "markdown",
   "id": "nearby-first",
   "metadata": {},
   "source": [
    "#### Question 3"
   ]
  },
  {
   "cell_type": "markdown",
   "id": "compliant-eleven",
   "metadata": {},
   "source": [
    "Your goal here is to implement a function `simulate_throws`, similar to the one you wrote in Question 2, but without generating a sample space at all - just using the `face_values`.\n",
    "\n",
    "Write a function that implements this, and name it `simulate_throws`."
   ]
  },
  {
   "cell_type": "code",
   "execution_count": 33,
   "id": "da049b7e",
   "metadata": {},
   "outputs": [
    {
     "data": {
      "text/plain": [
       "[('A', 'K'),\n",
       " ('K', '9'),\n",
       " ('Q', '10'),\n",
       " ('A', 'Q'),\n",
       " ('A', 'A'),\n",
       " ('A', '10'),\n",
       " ('Q', 'Q'),\n",
       " ('Q', 'A'),\n",
       " ('J', 'J'),\n",
       " ('10', '10')]"
      ]
     },
     "execution_count": 33,
     "metadata": {},
     "output_type": "execute_result"
    }
   ],
   "source": [
    "outcomes = ['9', '10', 'J', 'Q', 'K', 'A']\n",
    "\n",
    "def simulate_throws(face_values, n):\n",
    "    return [tuple(random.sample(outcomes * 2, k = 2)) for _ in range(n)]\n",
    "\n",
    "simulate_throws(outcomes, 10)\n",
    "\n"
   ]
  },
  {
   "cell_type": "markdown",
   "id": "useful-claim",
   "metadata": {},
   "source": [
    "#### Question 4"
   ]
  },
  {
   "cell_type": "markdown",
   "id": "photographic-collection",
   "metadata": {},
   "source": [
    "Using both methods of generating throws, build a dictionary that contains the face values as keys, and the number of times they were selected in the simulated throws."
   ]
  },
  {
   "cell_type": "markdown",
   "id": "hybrid-titanium",
   "metadata": {},
   "source": [
    "For example, assuming you made `100` throws using one of these methods, your dictionary might look like this:\n",
    "\n",
    "```\n",
    "{\n",
    "    '9': 39, \n",
    "    '10': 27, \n",
    "    'J': 28, \n",
    "    'Q': 34,\n",
    "    'K': 36, \n",
    "    'A': 36\n",
    "}\n",
    "```"
   ]
  },
  {
   "cell_type": "markdown",
   "id": "included-willow",
   "metadata": {},
   "source": [
    "Note that your values in the dictionary should add up to `200` is you made one `100` throws."
   ]
  },
  {
   "cell_type": "markdown",
   "id": "stuffed-think",
   "metadata": {},
   "source": [
    "Write a function that is given the function to use to generate the throws, the number of throws to simulate, and returns this dictionary."
   ]
  },
  {
   "cell_type": "code",
   "execution_count": 45,
   "id": "cbb7f443",
   "metadata": {},
   "outputs": [
    {
     "data": {
      "text/plain": [
       "{'10': 20}"
      ]
     },
     "execution_count": 45,
     "metadata": {},
     "output_type": "execute_result"
    }
   ],
   "source": [
    "throws = [('A', 'K'),\n",
    " ('K', '9'),\n",
    " ('Q', '10'),\n",
    " ('A', 'Q'),\n",
    " ('A', 'A'),\n",
    " ('A', '10'),\n",
    " ('Q', 'Q'),\n",
    " ('Q', 'A'),\n",
    " ('J', 'J'),\n",
    " ('10', '10')]\n",
    "\n",
    "outcome_counter = {}\n",
    "\n",
    "for throw in throws:\n",
    "    for value in throw:\n",
    "        outcome_counter[value] = outcome_counter.get(value,0) + 1\n",
    "    \n",
    "# print(outcome_counter)\n",
    "\n",
    "\n",
    "outcomes = ['9', '10', 'J', 'Q', 'K', 'A']\n",
    "\n",
    "def simulate_throws2(face_values, n):\n",
    "    return [tuple(random.sample(outcomes * 2, k = 2)) for _ in range(n)]\n",
    "\n",
    "from collections import Counter\n",
    "\n",
    "# dict(Counter(['A', 'J', 'Q', 'A', 'J']))\n",
    "\n",
    "def create_throw_dict(throw_generator, number_throws):\n",
    "    face_values = ['9', '10', 'J', 'Q', 'K', 'A']\n",
    "    throws = throw_generator(face_values, number_throws)\n",
    "    throw_list = [roll for roll in throw for throw in throws]\n",
    "    throws_counted = dict(Counter(throw_list))\n",
    "    return throws_counted\n",
    "\n",
    "create_throw_dict(simulate_throws2, 10)\n",
    "    \n"
   ]
  },
  {
   "cell_type": "markdown",
   "id": "occupational-ladder",
   "metadata": {},
   "source": [
    "#### Question 5"
   ]
  },
  {
   "cell_type": "markdown",
   "id": "vietnamese-coral",
   "metadata": {},
   "source": [
    "Write a function that given two arguments `a` and `b` returns a random float between `a` (inclusive) and `b` (exclusive)."
   ]
  }
 ],
 "metadata": {
  "kernelspec": {
   "display_name": "Python 3 (ipykernel)",
   "language": "python",
   "name": "python3"
  },
  "language_info": {
   "codemirror_mode": {
    "name": "ipython",
    "version": 3
   },
   "file_extension": ".py",
   "mimetype": "text/x-python",
   "name": "python",
   "nbconvert_exporter": "python",
   "pygments_lexer": "ipython3",
   "version": "3.11.4"
  }
 },
 "nbformat": 4,
 "nbformat_minor": 5
}
