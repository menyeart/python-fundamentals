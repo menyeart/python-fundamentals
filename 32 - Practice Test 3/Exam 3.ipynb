{
 "cells": [
  {
   "cell_type": "markdown",
   "id": "overhead-penguin",
   "metadata": {},
   "source": [
    "### Exam 3"
   ]
  },
  {
   "cell_type": "markdown",
   "id": "peripheral-franchise",
   "metadata": {},
   "source": [
    "The downloadable course materials contain a folder named `Exam Materials` which contains the following file:\n",
    "\n",
    "```\n",
    "widget_sales.csv\n",
    "```"
   ]
  },
  {
   "cell_type": "markdown",
   "id": "employed-syracuse",
   "metadata": {},
   "source": [
    "This CSV file contains sales data for some widgets, and contains the following columns:\n",
    "- `widget`: the name of the widget (string)\n",
    "- `date_sold`: an epoch indicating date and time sale occurred (integer)\n",
    "- `quantity_sold`: the number of widgets sold (integer)\n",
    "- `unit_price`: the unit price widget was sold for (float)\n",
    "- `tax`: the tax that was added to the sale price (float)\n",
    "- `discount`: the discount that was subtracted from the sale price (float)"
   ]
  },
  {
   "cell_type": "markdown",
   "id": "incoming-jewelry",
   "metadata": {},
   "source": [
    "All the questions on this exam relate to the data contained in this file."
   ]
  },
  {
   "cell_type": "markdown",
   "id": "timely-pressing",
   "metadata": {},
   "source": [
    "#### Q1"
   ]
  },
  {
   "cell_type": "markdown",
   "id": "stunning-trout",
   "metadata": {},
   "source": [
    "First thing is to load the data into a Pandas dataframe.\n",
    "\n",
    "We do this by running the following code:"
   ]
  },
  {
   "cell_type": "code",
   "execution_count": 3,
   "id": "historical-wrong",
   "metadata": {},
   "outputs": [
    {
     "name": "stdout",
     "output_type": "stream",
     "text": [
      "     widget   date_sold  quantity_sold  unit_price     tax  discount\n",
      "0       DDD  1579626005            2.0        9.99    0.26      0.51\n",
      "1       NaN  1579134185           16.0        9.99    2.86      7.13\n",
      "2       BBB  1579978810            NaN       15.00    1.06      2.83\n",
      "3       EEE  1578912699           18.0      199.99  176.89    145.83\n",
      "4       BBB  1579162853            4.0       15.00    2.19      2.70\n",
      "...     ...         ...            ...         ...     ...       ...\n",
      "9995    DDD  1580265826            3.0        9.99    0.52      0.68\n",
      "9996    DDD  1579719495            2.0        9.99    0.19      0.51\n",
      "9997    BBB  1579872262           11.0       15.00    6.96      2.57\n",
      "9998    EEE  1578057662           16.0      199.99   42.43     14.63\n",
      "9999    FFF  1579287420            3.0      250.00   28.65     26.53\n",
      "\n",
      "[10000 rows x 6 columns]\n",
      "<class 'pandas.core.frame.DataFrame'>\n",
      "RangeIndex: 10000 entries, 0 to 9999\n",
      "Data columns (total 6 columns):\n",
      " #   Column         Non-Null Count  Dtype  \n",
      "---  ------         --------------  -----  \n",
      " 0   widget         9999 non-null   object \n",
      " 1   date_sold      10000 non-null  int64  \n",
      " 2   quantity_sold  9999 non-null   float64\n",
      " 3   unit_price     10000 non-null  float64\n",
      " 4   tax            10000 non-null  float64\n",
      " 5   discount       10000 non-null  float64\n",
      "dtypes: float64(4), int64(1), object(1)\n",
      "memory usage: 468.9+ KB\n",
      "None\n"
     ]
    }
   ],
   "source": [
    "import pandas as pd\n",
    "df = pd.read_csv('widget_sales.csv')\n"
   ]
  },
  {
   "cell_type": "markdown",
   "id": "pleasant-morgan",
   "metadata": {},
   "source": [
    "The expected data type for the `quantity_sold` column is an integer, what are the expected and actual Numpy data types for that column in the loaded dataframe?"
   ]
  },
  {
   "cell_type": "markdown",
   "id": "overhead-newcastle",
   "metadata": {},
   "source": [
    "- a. expected = `int64`, actual = `int64`\n",
    "- b. expected = `int64`, actual = `float64`\n",
    "- c. expected = `float64`, actual = `object`\n",
    "- d. expected = `float64`, actual = `float64`\n"
   ]
  },
  {
   "cell_type": "code",
   "execution_count": null,
   "id": "112a4246",
   "metadata": {},
   "outputs": [],
   "source": [
    "# B. Expected: int64, Actual: float 64, Why: Expected to be integers as we cant sell part\n",
    "#             of something. They become floats because of the nans."
   ]
  },
  {
   "cell_type": "markdown",
   "id": "professional-round",
   "metadata": {},
   "source": [
    "#### Q2"
   ]
  },
  {
   "cell_type": "markdown",
   "id": "sexual-clear",
   "metadata": {},
   "source": [
    "Why is the expected and actual data type for `quantity_sold` not the same?\n",
    "\n",
    "- a. The csv data contains some float values for that column, not just integers\n",
    "- b. There's a bug in Pandas\n",
    "- c. That column has some missing values\n",
    "- d. The expected and actual data types are the same - nothing to see here, move along!\n"
   ]
  },
  {
   "cell_type": "code",
   "execution_count": 4,
   "id": "cdcd2d32",
   "metadata": {},
   "outputs": [],
   "source": [
    "# C. See answer to B. NaNs in the data turn the column into floats"
   ]
  },
  {
   "cell_type": "markdown",
   "id": "close-florist",
   "metadata": {},
   "source": [
    "#### Q3"
   ]
  },
  {
   "cell_type": "markdown",
   "id": "neural-exercise",
   "metadata": {},
   "source": [
    "Inspect the data frame to determine which columns have missing (null) values.\n",
    "\n",
    "- a. `widget`, `quantity_sold` only\n",
    "- b. `date_sold`, `quantity_sold` only\n",
    "- c. `quantity_sold` only\n",
    "- d. there are no missing values anywhere\n"
   ]
  },
  {
   "cell_type": "code",
   "execution_count": null,
   "id": "664de74d",
   "metadata": {},
   "outputs": [],
   "source": [
    "# A. widget and quantity sold only have 9999 non null values"
   ]
  },
  {
   "cell_type": "markdown",
   "id": "animated-congress",
   "metadata": {},
   "source": [
    "#### Q4"
   ]
  },
  {
   "cell_type": "markdown",
   "id": "preliminary-assets",
   "metadata": {},
   "source": [
    "We want to create a new dataframe (named `df_not_null`) that does not have any missing values.\n",
    "We want to do this by removing all **rows** that contain null values.\n",
    "\n",
    "Which of the following expressions will achieve this?\n",
    "\n",
    "I.\n",
    "```\n",
    "df_temp = df[pd.notnull(df['widget'])]\n",
    "df_not_null = df_temp[pd.notnull(df_temp['quantity_sold'])]\n",
    "```\n",
    "\n",
    "II.\n",
    "```\n",
    "df_not_null = df.dropna(axis=0)\n",
    "```\n",
    "\n",
    "III.\n",
    "```\n",
    "df_not_null = df.dropna()\n",
    "```\n",
    "\n",
    "- a. I only\n",
    "- b. II and III only\n",
    "- c. none of them\n",
    "- d. all of them\n"
   ]
  },
  {
   "cell_type": "code",
   "execution_count": 7,
   "id": "edcf5fe6",
   "metadata": {},
   "outputs": [
    {
     "name": "stdout",
     "output_type": "stream",
     "text": [
      "<class 'pandas.core.frame.DataFrame'>\n",
      "Index: 9998 entries, 0 to 9999\n",
      "Data columns (total 6 columns):\n",
      " #   Column         Non-Null Count  Dtype  \n",
      "---  ------         --------------  -----  \n",
      " 0   widget         9998 non-null   object \n",
      " 1   date_sold      9998 non-null   int64  \n",
      " 2   quantity_sold  9998 non-null   float64\n",
      " 3   unit_price     9998 non-null   float64\n",
      " 4   tax            9998 non-null   float64\n",
      " 5   discount       9998 non-null   float64\n",
      "dtypes: float64(4), int64(1), object(1)\n",
      "memory usage: 546.8+ KB\n",
      "None\n"
     ]
    }
   ],
   "source": [
    "# All of them should do it, first one by creating a mask and pplying it, second two by\n",
    "# using built in method\n",
    "\n",
    "print(df.dropna().info())"
   ]
  },
  {
   "cell_type": "markdown",
   "id": "living-range",
   "metadata": {},
   "source": [
    "#### Q5"
   ]
  },
  {
   "cell_type": "markdown",
   "id": "instructional-southwest",
   "metadata": {},
   "source": [
    "Assume that `df_not_null` is the result of correctly removing any rows in the original data frame that contained any null values.\n",
    "\n",
    "Inspect this new data frame - what is the data type of `quantity_sold`?\n",
    "\n",
    "- a. `object`\n",
    "- b. `int64`\n",
    "- c. `float64`\n",
    "- d. `uint64`\n"
   ]
  },
  {
   "cell_type": "code",
   "execution_count": null,
   "id": "89ed5f99",
   "metadata": {},
   "outputs": [],
   "source": [
    "# float64"
   ]
  },
  {
   "cell_type": "markdown",
   "id": "extraordinary-fortune",
   "metadata": {},
   "source": [
    "#### Q6\n",
    "The data type for `quantity_sold` can be changed to be an integer since we expect all non-null values to be positive integers.\n",
    "\n",
    "Assuming `df_not_null` is a dataframe that contains no null values (derived from our original dataframe `df`), which of the following code results in `data` being a dataframe that contains the `quantity_sold` column as an `int64` data type?\n",
    "\n",
    "I.\n",
    "```\n",
    "quantity_sold = df_not_null['quantity_sold'].astype(int)\n",
    "data = pd.concat(\n",
    "    [\n",
    "        df_not_null[['widget', 'date_sold', 'unit_price', 'tax', 'discount']], \n",
    "        quantity_sold\n",
    "    ],\n",
    "    axis=1\n",
    ")\n",
    "```\n",
    "\n",
    "II.\n",
    "```\n",
    "quantity_sold = df_not_null['quantity_sold'].astype(int)\n",
    "data = df_not_null.drop('quantity_sold', axis=1)\n",
    "data = pd.concat([data, quantity_sold], axis=1, join='inner')\n",
    "```\n",
    "\n",
    "III.\n",
    "```\n",
    "quantity_sold = df['quantity_sold'].dropna().astype(int)\n",
    "data = df.drop('quantity_sold', axis=1)\n",
    "data = pd.concat([data, quantity_sold], axis=1, join='inner')\n",
    "```\n",
    "\n",
    "- a. I only\n",
    "- b. II only\n",
    "- c. III only\n",
    "- d. I and II only\n"
   ]
  },
  {
   "cell_type": "markdown",
   "id": "unlimited-princeton",
   "metadata": {},
   "source": [
    "#### Q7"
   ]
  },
  {
   "cell_type": "markdown",
   "id": "remarkable-rebate",
   "metadata": {},
   "source": [
    "The net sale for each row is given by:\n",
    "\n",
    "```quantity_sold * unit_price + tax - discount```"
   ]
  },
  {
   "cell_type": "markdown",
   "id": "satisfied-mechanics",
   "metadata": {},
   "source": [
    "Calculate the total net sales of the data contained in the dataframe that has all rows with null values removed, rounded to 2 decimal points.\n",
    "\n",
    "The answer is:\n",
    "- a. `8383874.86`\n",
    "- b. `7963979.82`\n",
    "- c. `8380560.82`\n",
    "- d. `99355.0`\n"
   ]
  },
  {
   "cell_type": "code",
   "execution_count": 23,
   "id": "812b7c31",
   "metadata": {},
   "outputs": [
    {
     "name": "stdout",
     "output_type": "stream",
     "text": [
      "8384030.430000001\n"
     ]
    }
   ],
   "source": [
    "frame = df.dropna()\n",
    "net_sales = df['quantity_sold'] * df['unit_price'] + df['tax'] - df['discount']\n",
    "total = net_sales.dropna().sum()"
   ]
  },
  {
   "cell_type": "markdown",
   "id": "collective-buying",
   "metadata": {},
   "source": [
    "#### Q8"
   ]
  },
  {
   "cell_type": "markdown",
   "id": "trained-earth",
   "metadata": {},
   "source": [
    "Identify the date on which the **second** highest net sale for widget `AAA` occurred.\n",
    "\n",
    "Just as before, the net sale formula is given by:\n",
    "```quantity_sold * unit_price + tax - discount```\n",
    "\n",
    "This sale happened on this date:\n",
    "s\n",
    "- a. 2020-01-21T16:22:07\n",
    "- b. 2020-01-21T21:39:52\n",
    "- c. 2020-01-26T00:30:51\n",
    "- d. 2020-01-23T21:31:26\n"
   ]
  },
  {
   "cell_type": "code",
   "execution_count": 85,
   "id": "db15290b",
   "metadata": {},
   "outputs": [
    {
     "name": "stdout",
     "output_type": "stream",
     "text": [
      "         date_sold  quantity_sold  unit_price   tax  discount  net_sales\n",
      "widget                                                                  \n",
      "AAA     1579648927           19.0       10.75  9.51      1.00     212.76\n",
      "AAA     1580023851           19.0       10.75  8.53      0.22     212.56\n",
      "AAA     1578863965           19.0       10.75  8.29      0.63     211.91\n",
      "AAA     1579802624           19.0       10.75  8.50      1.15     211.60\n",
      "AAA     1579943222           19.0       10.75  8.40      1.45     211.20\n",
      "...            ...            ...         ...   ...       ...        ...\n",
      "AAA     1580266790            1.0       10.75  0.09      0.50      10.34\n",
      "AAA     1578014639            1.0       10.75  0.10      0.52      10.33\n",
      "AAA     1579840286            1.0       10.75  0.08      0.52      10.31\n",
      "AAA     1578524038            1.0       10.75  0.09      0.53      10.31\n",
      "AAA     1580391802            1.0       10.75  0.04      0.54      10.25\n",
      "\n",
      "[1647 rows x 6 columns]\n",
      "widget\n",
      "AAA   1970-01-01 00:00:01.579648927\n",
      "AAA   1970-01-01 00:00:01.580023851\n",
      "AAA   1970-01-01 00:00:01.578863965\n",
      "AAA   1970-01-01 00:00:01.579802624\n",
      "AAA   1970-01-01 00:00:01.579943222\n",
      "                   ...             \n",
      "AAA   1970-01-01 00:00:01.580266790\n",
      "AAA   1970-01-01 00:00:01.578014639\n",
      "AAA   1970-01-01 00:00:01.579840286\n",
      "AAA   1970-01-01 00:00:01.578524038\n",
      "AAA   1970-01-01 00:00:01.580391802\n",
      "Name: date_sold, Length: 1647, dtype: datetime64[ns]\n"
     ]
    }
   ],
   "source": [
    "sales = df.dropna()\n",
    "sales = sales.set_index('widget')\n",
    "aaa = sales.loc['AAA', :]\n",
    "net_sales = aaa['quantity_sold'] * aaa['unit_price'] + aaa['tax'] - aaa['discount']\n",
    "# print(net_sales)\n",
    "# print(aaa)\n",
    "aaa_sales = pd.concat([aaa, net_sales], axis = 1)\n",
    "aaa_sales = aaa_sales.rename(columns = { 0: 'net_sales'})\n",
    "sorted_sales = aaa_sales.sort_values(by = 'net_sales', ascending = False)\n",
    "print(sorted_sales)\n",
    "print(pd.to_datetime(sorted_sales['date_sold']))\n"
   ]
  },
  {
   "cell_type": "markdown",
   "id": "together-coordinate",
   "metadata": {},
   "source": [
    "#### Q9"
   ]
  },
  {
   "cell_type": "code",
   "execution_count": 100,
   "id": "73d1b01b",
   "metadata": {},
   "outputs": [
    {
     "name": "stdout",
     "output_type": "stream",
     "text": [
      "['DDD' 'EEE' 'BBB' ... 'BBB' 'EEE' 'FFF']\n",
      "1647\n",
      "{'DDD': 1667, 'EEE': 1667, 'BBB': 1704, 'FFF': 1661, 'CCC': 1652, 'AAA': 1647}\n"
     ]
    }
   ],
   "source": [
    "print(sales.index.values)\n",
    "all_sales = {}\n",
    "print(sales.loc['AAA', :]['quantity_sold'].count())\n",
    "for sym in sales.index.values:\n",
    "    all_sales[sym] =  sales.loc[sym, :]['quantity_sold'].count()\n",
    "print(all_sales)"
   ]
  },
  {
   "cell_type": "markdown",
   "id": "comic-seafood",
   "metadata": {},
   "source": [
    "Calculate the number of rows (sales) that each widget has generated (limit your dataframe to rows that contain no null values)."
   ]
  },
  {
   "cell_type": "markdown",
   "id": "recreational-venice",
   "metadata": {},
   "source": [
    "Represented as a dictionary, the result is:\n",
    "\n",
    "a. \n",
    "```\n",
    "{'AAA': 1646, 'BBB': 1705, 'CCC': 1653, 'DDD': 1666, 'EEE': 1668, 'FFF': 1661}\n",
    "```\n",
    "\n",
    "b.\n",
    "```\n",
    "{'AAA': 1647, 'BBB': 1704, 'CCC': 1652, 'DDD': 1667, 'EEE': 1667, 'FFF': 1661}\n",
    "```\n",
    "\n",
    "c.\n",
    "```\n",
    "{'AAA': 1666, 'BBB': 1666, 'CCC': 1666, 'DDD': 1666, 'EEE': 1666, 'FFF': 1670}\n",
    "```\n",
    "\n",
    "d.\n",
    "```\n",
    "{'AAA': 1647, 'BBB': 1705, 'CCC': 1652, 'DDD': 1667, 'EEE': 1667, 'FFF': 1661, NAN: 1}\n",
    "```\n"
   ]
  },
  {
   "cell_type": "markdown",
   "id": "manual-valuable",
   "metadata": {},
   "source": [
    "#### Q10"
   ]
  },
  {
   "cell_type": "code",
   "execution_count": 7,
   "id": "68265e58",
   "metadata": {},
   "outputs": [
    {
     "name": "stdout",
     "output_type": "stream",
     "text": [
      "{'DDD': 2.4477099821280213, 'EEE': 2.480249325956984, 'BBB': 2.5042679771292873, 'FFF': 2.4609451987746773, 'CCC': 2.4940254338751178, 'AAA': 2.4392236367701217}\n"
     ]
    }
   ],
   "source": [
    "import pandas as pd\n",
    "df = pd.read_csv('widget_sales.csv')\n",
    "sales = df.dropna()\n",
    "sales = sales.set_index('widget')\n",
    "\n",
    "discounts = {}\n",
    "\n",
    "for sym in sales.index.values:\n",
    "    sym_sales = sales.loc[sym, :]\n",
    "    discounts[sym] = (sym_sales['discount'] / \n",
    "                      (sym_sales['quantity_sold'] * sym_sales['unit_price']) * 100).mean()\n",
    "print(discounts)"
   ]
  },
  {
   "cell_type": "markdown",
   "id": "promotional-rental",
   "metadata": {},
   "source": [
    "Limiting your dataframe to rows with non-null values only, calculate the average percentage discount (rounded to 2 digits after the decimal point) of each widget.\n",
    "\n",
    "(The percentage discount for a specific row in the dataframe is given by:\n",
    "```\n",
    "discount / (quantity_sold * unit_price) * 100\n",
    "```\n",
    ")\n",
    "\n",
    "Represented as a dictionary, the result is:\n",
    "\n",
    "a. \n",
    "```\n",
    "{'AAA': 2.44, 'BBB': 2.5, 'CCC': 2.49, 'DDD': 2.45, 'EEE': 2.48, 'FFF': 2.46}\n",
    "```\n",
    "\n",
    "b.\n",
    "```\n",
    "{'AAA': 2.35, 'BBB': 2.49, 'CCC': 2.42, 'DDD': 2.39, 'EEE': 2.44, 'FFF': 2.47}\n",
    "```\n",
    "\n",
    "c.\n",
    "```\n",
    "{'AAA': 2.14, 'BBB': 2.23, 'CCC': 2.2, 'DDD': 2.14, 'EEE': 2.24, 'FFF': 2.2}\n",
    "```\n",
    "\n",
    "d.\n",
    "```\n",
    "{'AAA': 2.65, 'BBB': 2.76, 'CCC': 2.71, 'DDD': 2.63, 'EEE': 2.72, 'FFF': 2.7}\n",
    "```\n"
   ]
  }
 ],
 "metadata": {
  "kernelspec": {
   "display_name": "Python 3 (ipykernel)",
   "language": "python",
   "name": "python3"
  },
  "language_info": {
   "codemirror_mode": {
    "name": "ipython",
    "version": 3
   },
   "file_extension": ".py",
   "mimetype": "text/x-python",
   "name": "python",
   "nbconvert_exporter": "python",
   "pygments_lexer": "ipython3",
   "version": "3.11.4"
  }
 },
 "nbformat": 4,
 "nbformat_minor": 5
}
