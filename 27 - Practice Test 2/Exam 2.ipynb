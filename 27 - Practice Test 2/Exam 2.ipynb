{
 "cells": [
  {
   "cell_type": "markdown",
   "id": "7d70204d",
   "metadata": {},
   "source": [
    "### Exam 2"
   ]
  },
  {
   "cell_type": "markdown",
   "id": "17ed2a25",
   "metadata": {},
   "source": [
    "#### Q1"
   ]
  },
  {
   "cell_type": "markdown",
   "id": "3fbb15d6",
   "metadata": {},
   "source": [
    "We are creating a list of `(x, y)` coordinate pairs (represented as tuples), based on calculating the `math.sin` function of a given sequence of `x` values. (You can assume that the `math` module has been imported)"
   ]
  },
  {
   "cell_type": "markdown",
   "id": "9fffe246",
   "metadata": {},
   "source": [
    "For example, given:"
   ]
  },
  {
   "cell_type": "code",
   "execution_count": 1,
   "id": "90fe462c",
   "metadata": {},
   "outputs": [],
   "source": [
    "x = [1, 2, 3, 4, 5, 6]"
   ]
  },
  {
   "cell_type": "markdown",
   "id": "9ccae7f9",
   "metadata": {},
   "source": [
    "The return value of calling the function `gen_coords(math.sin, x)` should return:\n",
    "\n",
    "```\n",
    "[(1, 0.8414709848078965),\n",
    " (2, 0.9092974268256817),\n",
    " (3, 0.1411200080598672),\n",
    " (4, -0.7568024953079282),\n",
    " (5, -0.9589242746631385),\n",
    " (6, -0.27941549819892586)]\n",
    "```"
   ]
  },
  {
   "cell_type": "markdown",
   "id": "292779fd",
   "metadata": {},
   "source": [
    "Which of the following functions will work correctly?\n",
    "\n",
    "I.\n",
    "```\n",
    "def gen_coords(fn, x):\n",
    "    return list(zip(x, map(fn, x)))\n",
    "```\n",
    "\n",
    "II.\n",
    "```\n",
    "def gen_coords(fn, x):\n",
    "    return [(v, fn(v)) for v in x]\n",
    "```\n",
    "\n",
    "III.\n",
    "```\n",
    "def gen_coords(fn, x):\n",
    "    return [(v, map(fn, v)) for v in x]\n",
    "```\n",
    "\n",
    "- a. I only\n",
    "- b. I and II only\n",
    "- c. I and III only\n",
    "- d. all of them\n"
   ]
  },
  {
   "cell_type": "code",
   "execution_count": null,
   "id": "36f1fbf6",
   "metadata": {},
   "outputs": [],
   "source": [
    "b"
   ]
  },
  {
   "cell_type": "markdown",
   "id": "72976192",
   "metadata": {},
   "source": [
    "#### Q2"
   ]
  },
  {
   "cell_type": "markdown",
   "id": "43671b32",
   "metadata": {},
   "source": [
    "The following collection of dictionaries has to be filtered to only include the elements with a `symbol` field equal to`ABC`, and ordered by the difference between high and low in descending order."
   ]
  },
  {
   "cell_type": "code",
   "execution_count": 20,
   "id": "eb61b13e",
   "metadata": {},
   "outputs": [],
   "source": [
    "# data = [\n",
    "#     {\n",
    "#         'symbol': 'ABC',\n",
    "#         'date': '1900-01-01',\n",
    "#         'high': 100,\n",
    "#         'low': 50\n",
    "#     },\n",
    "#     {\n",
    "#         'symbol': 'ABC',\n",
    "#         'date': '1900-01-02',\n",
    "#         'high': 90,\n",
    "#         'low': 60\n",
    "#     },\n",
    "#     {\n",
    "#         'symbol': 'DEF',\n",
    "#         'date': '1900-01-01',\n",
    "#         'high': 100,\n",
    "#         'low': 50\n",
    "#     },\n",
    "#     {\n",
    "#         'symbol': 'ABC',\n",
    "#         'date': '1900-01-03',\n",
    "#         'high': 120,\n",
    "#         'low': 10\n",
    "#     },\n",
    "#     {\n",
    "#         'date': '1900-01-04',\n",
    "#         'high': 100,\n",
    "#         'low': 90\n",
    "#     }\n",
    "# ]"
   ]
  },
  {
   "cell_type": "markdown",
   "id": "8cf94a90",
   "metadata": {},
   "source": [
    "For this data set, the result should be:"
   ]
  },
  {
   "cell_type": "markdown",
   "id": "ff2b42dd",
   "metadata": {},
   "source": [
    "```\n",
    "[\n",
    "    {\n",
    "        'symbol': 'ABC',\n",
    "        'date': '1900-01-03',\n",
    "        'high': 120,\n",
    "        'low': 10\n",
    "    },\n",
    "    {\n",
    "        'symbol': 'ABC',\n",
    "        'date': '1900-01-01',\n",
    "        'high': 100,\n",
    "        'low': 50\n",
    "    },\n",
    "    {\n",
    "        'symbol': 'ABC',\n",
    "        'date': '1900-01-02',\n",
    "        'high': 90,\n",
    "        'low': 60\n",
    "    }    \n",
    "]\n",
    "```"
   ]
  },
  {
   "cell_type": "markdown",
   "id": "acdb6b23",
   "metadata": {},
   "source": [
    "Which of the following functions will return the desired result?"
   ]
  },
  {
   "cell_type": "markdown",
   "id": "3ab4d858",
   "metadata": {},
   "source": [
    "I.\n",
    "```\n",
    "def extract(data):\n",
    "    pred = lambda d: d.get('symbol') == 'ABC'\n",
    "    filtered = filter(pred, data)\n",
    "    return list(sorted(filtered, key=lambda d: d['high'] - d['low'], reverse=True))\n",
    "```\n",
    "\n",
    "II.\n",
    "```\n",
    "def extract(data):\n",
    "    filtered = filter(lambda d: d['symbol'] == 'AAPL', data)\n",
    "    return list(sorted(filtered, key=lambda d: d['high'] - d['low'], reverse=True))\n",
    "```\n",
    "\n",
    "III.\n",
    "```\n",
    "def extract(data):\n",
    "    filtered = []\n",
    "    for d in data:\n",
    "        if d.get('symbol') == 'ABC':\n",
    "            filtered.append(d)\n",
    "    sort_func = lambda d: d['high'] - d['low']\n",
    "    sorted_data = sorted(filtered, key=sort_func, reverse=True)\n",
    "    return list(sorted_data)\n",
    "```\n",
    "\n",
    "- a. I only\n",
    "- b. I and II only\n",
    "- c. I and III only\n",
    "- d. all of them\n"
   ]
  },
  {
   "cell_type": "code",
   "execution_count": 18,
   "id": "987d3d8d",
   "metadata": {},
   "outputs": [],
   "source": [
    "# result = [\n",
    "#     {\n",
    "#         'symbol': 'ABC',\n",
    "#         'date': '1900-01-03',\n",
    "#         'high': 120,\n",
    "#         'low': 10\n",
    "#     },\n",
    "#     {\n",
    "#         'symbol': 'ABC',\n",
    "#         'date': '1900-01-01',\n",
    "#         'high': 100,\n",
    "#         'low': 50\n",
    "#     },\n",
    "#     {\n",
    "#         'symbol': 'ABC',\n",
    "#         'date': '1900-01-02',\n",
    "#         'high': 90,\n",
    "#         'low': 60\n",
    "#     }    \n",
    "# ]\n",
    "\n",
    "def extract(data):\n",
    "    pred = lambda d: d.get('symbol') == 'ABC'\n",
    "    filtered = filter(pred, data)\n",
    "    return list(sorted(filtered, key=lambda d: d['high'] - d['low'], reverse=True))\n",
    "\n",
    "# print(extract(data))\n",
    "# print(result == extract(data))\n",
    "\n",
    "def extract2(data):\n",
    "    filtered = filter(lambda d: d['symbol'] == 'AAPL', data)\n",
    "    return list(sorted(filtered, key=lambda d: d['high'] - d['low'], reverse=True))\n",
    "\n",
    "# print(extract2(data))\n",
    "# print(result == extract2(data))\n",
    "\n",
    "def extract3(data):\n",
    "    filtered = []\n",
    "    for d in data:\n",
    "        if d.get('symbol') == 'ABC':\n",
    "            filtered.append(d)\n",
    "    sort_func = lambda d: d['high'] - d['low']\n",
    "    sorted_data = sorted(filtered, key=sort_func, reverse=True)\n",
    "    return list(sorted_data)\n",
    "\n",
    "# print(extract3(data))\n",
    "# print(result == extract3(data))\n"
   ]
  },
  {
   "cell_type": "markdown",
   "id": "1bc1a5b7",
   "metadata": {},
   "source": [
    "#### Q3"
   ]
  },
  {
   "cell_type": "markdown",
   "id": "a3c1d832",
   "metadata": {},
   "source": [
    "The following function is meant to be used as a decorator that will convert the result of a function to an ISO formatted date string if the function returns a `datetime` object, and leave the result unaffected otherwise."
   ]
  },
  {
   "cell_type": "markdown",
   "id": "e1647669",
   "metadata": {},
   "source": [
    "```\n",
    "1 from datetime import datetime\n",
    "2 \n",
    "3 def normalize_datetime(fn):\n",
    "4     def inner(*args, **kwargs):\n",
    "5         result = fn(args, kwargs)\n",
    "6         if isinstance(result, datetime):\n",
    "7             result = result.isoformat()\n",
    "8         return fn\n",
    "9     return result\n",
    "```"
   ]
  },
  {
   "cell_type": "code",
   "execution_count": 5,
   "id": "6453a476",
   "metadata": {},
   "outputs": [
    {
     "name": "stdout",
     "output_type": "stream",
     "text": [
      "2023-11-24 10:13:30.502251\n"
     ]
    },
    {
     "ename": "NameError",
     "evalue": "name 'result' is not defined",
     "output_type": "error",
     "traceback": [
      "\u001b[0;31m---------------------------------------------------------------------------\u001b[0m",
      "\u001b[0;31mNameError\u001b[0m                                 Traceback (most recent call last)",
      "Cell \u001b[0;32mIn[5], line 17\u001b[0m\n\u001b[1;32m     13\u001b[0m     \u001b[38;5;28;01mreturn\u001b[39;00m datetime\u001b[38;5;241m.\u001b[39mnow()\n\u001b[1;32m     15\u001b[0m \u001b[38;5;28mprint\u001b[39m(make_date())\n\u001b[0;32m---> 17\u001b[0m \u001b[38;5;28mprint\u001b[39m(\u001b[43mnormalize_datetime\u001b[49m\u001b[43m(\u001b[49m\u001b[43mmake_date\u001b[49m\u001b[43m(\u001b[49m\u001b[43m)\u001b[49m\u001b[43m)\u001b[49m)\n",
      "Cell \u001b[0;32mIn[5], line 10\u001b[0m, in \u001b[0;36mnormalize_datetime\u001b[0;34m(fn)\u001b[0m\n\u001b[1;32m      8\u001b[0m         result \u001b[38;5;241m=\u001b[39m result\u001b[38;5;241m.\u001b[39misoformat()\n\u001b[1;32m      9\u001b[0m     \u001b[38;5;28;01mreturn\u001b[39;00m fn\n\u001b[0;32m---> 10\u001b[0m \u001b[38;5;28;01mreturn\u001b[39;00m \u001b[43mresult\u001b[49m\n",
      "\u001b[0;31mNameError\u001b[0m: name 'result' is not defined"
     ]
    }
   ],
   "source": [
    "from datetime import datetime\n",
    "\n",
    "def normalize_datetime(fn):\n",
    "    def inner(*args, **kwargs):\n",
    "        result = fn(args, kwargs)\n",
    "        if isinstance(result, datetime):\n",
    "            result = result.isoformat()\n",
    "        return fn\n",
    "    return result\n",
    "\n",
    "def make_date():\n",
    "    return datetime.now()\n",
    "\n",
    "print(make_date())\n",
    "\n",
    "print(normalize_datetime(make_date()))\n",
    "\n"
   ]
  },
  {
   "cell_type": "markdown",
   "id": "b0f3cc35",
   "metadata": {},
   "source": [
    "However, there are a few things wrong with this function. Which of the following changes should be made to this function for it to work properly:"
   ]
  },
  {
   "cell_type": "markdown",
   "id": "bba4ae98",
   "metadata": {},
   "source": [
    "I. Line 5 should be changed to: `result = fn(*args, **kwargs)`\n",
    "\n",
    "II. Line 8 should be changed to: `return result`\n",
    "\n",
    "III. Line 9 should be changed to: `return inner`\n",
    "\n",
    "\n",
    "- a. I and II only\n",
    "- b. II and III only\n",
    "- c. I and III only\n",
    "- d. all of them\n"
   ]
  },
  {
   "cell_type": "markdown",
   "id": "cbdb0128",
   "metadata": {},
   "source": [
    "#### Q4"
   ]
  },
  {
   "cell_type": "markdown",
   "id": "01b03413",
   "metadata": {},
   "source": [
    "What format string should be used to parse the following string into a `datetime` object using the `datetime.strptime()` function:\n",
    "\n",
    "```\n",
    "t = '8:30pm on the 3rd of March, 2020'\n",
    "```"
   ]
  },
  {
   "cell_type": "markdown",
   "id": "43cf39cc",
   "metadata": {},
   "source": [
    "- a. `'%H:%m%p on the %Drd of %M, %Y'`\n",
    "- b. `'%I:%M%p on the %drd of %B, %Y'`\n",
    "- c. `'%h:%h%p on the %drd of %b, %Y'`\n",
    "- d. `'%I:%M%P on the %drd of %B, %Y'`\n"
   ]
  },
  {
   "cell_type": "markdown",
   "id": "3b49c9bd",
   "metadata": {},
   "source": [
    "#### Q5"
   ]
  },
  {
   "cell_type": "markdown",
   "id": "f29c9da7",
   "metadata": {},
   "source": [
    "You are writing some code to append lines of text to an existing text file.\n",
    "\n",
    "Which variant of the `open` function should you use:\n",
    "\n",
    "- a. `open(f, 'r')`\n",
    "- b. `open(f, 'w')`\n",
    "- c. `open(f, 'a')`\n",
    "- d. `open(f, 'rw')`\n"
   ]
  },
  {
   "cell_type": "markdown",
   "id": "6db887d8",
   "metadata": {},
   "source": [
    "#### Q6"
   ]
  },
  {
   "cell_type": "markdown",
   "id": "be4e66e6",
   "metadata": {},
   "source": [
    "A CSV file has rows formatted as follows:\n",
    "\n",
    "```\n",
    "'/string-1/- string2- string3-100'\n",
    "```\n",
    "\n",
    "We want to parse this row so that the result should be `['string-1', 'string2', 'string3', '100']`"
   ]
  },
  {
   "cell_type": "markdown",
   "id": "dd05989c",
   "metadata": {},
   "source": [
    "What settings should be used when using Python's CSV reader to parse this file correctly?\n",
    "\n",
    "- a. `csv.reader(file, delimiter='-', quotechar='/', skipinitialspace=False)`\n",
    "- b. `csv.reader(file, delimiter='-', quotechar='/', skipinitialspace=True)`\n",
    "- c. `csv.reader(file, delimiter='/', quotechar='-', skipinitialspace=False)`\n",
    "- d. `csv.reader(file, delimiter='/', quotechar='-', skipinitialspace=True)`\n"
   ]
  },
  {
   "cell_type": "code",
   "execution_count": null,
   "id": "3ff7fde0",
   "metadata": {},
   "outputs": [],
   "source": []
  },
  {
   "cell_type": "markdown",
   "id": "cf88b1aa",
   "metadata": {},
   "source": [
    "#### Q7"
   ]
  },
  {
   "cell_type": "markdown",
   "id": "39c51e70",
   "metadata": {},
   "source": [
    "Which of the following expressions can be used to generate a random `float` in the interval `[15, 25)` (i.e. the random number `x` should satisfy `15 <= x < 25`)\n",
    "\n",
    "- a. `15 + 25 * random.number()`\n",
    "- b. `10 + 15 * random.number()`\n",
    "- c. `40 * random.number() - 15`\n",
    "- d. `15 + 10 * random.random()`\n"
   ]
  },
  {
   "cell_type": "code",
   "execution_count": 35,
   "id": "e4f072ab",
   "metadata": {},
   "outputs": [
    {
     "name": "stdout",
     "output_type": "stream",
     "text": [
      "16.393245931586108\n"
     ]
    }
   ],
   "source": [
    "import random\n",
    "import math\n",
    "\n",
    "print(15 + 10 * random.random())"
   ]
  },
  {
   "cell_type": "markdown",
   "id": "f4503e8a",
   "metadata": {},
   "source": [
    "#### Q8"
   ]
  },
  {
   "cell_type": "markdown",
   "id": "5161120e",
   "metadata": {},
   "source": [
    "For this exercise you will need to first set your random seed to `-1` (`random.seed(-1)`)\n",
    "\n",
    "Once you have done this, use the `statistics` module to create a normal distribution centered at `3` with a standard deviation of `5`. Determine the median of a `50` element sample from the distribution (use the distribution object's `sample()` method to extract your sample of `50` elements).\n",
    "\n",
    "The median, rounded to 2 digits after the decimal point is:\n",
    "- a. `3.0`\n",
    "- b. `3.83`\n",
    "- c. `5.0`\n",
    "- d. `2.99`\n"
   ]
  },
  {
   "cell_type": "code",
   "execution_count": 25,
   "id": "4172d26b",
   "metadata": {},
   "outputs": [
    {
     "name": "stdout",
     "output_type": "stream",
     "text": [
      "[9.440923765777313, 10.247228043498854, 3.3316790446913096, -0.8227182548581591, -2.4608660755207072, 3.1566725841585845, -2.110515850054364, -4.18414722551265, 3.996559882418769, 3.6668730232930242, 5.732341501691158, -1.569854718676563, 3.025026418132862, 2.6762911981365605, -4.529145006303709, 5.689985893305169, 4.603555504994241, 14.94556021620343, 4.014845886549821, 2.2764884591753973, 9.163785875144619, 3.9939562409671274, 7.545155130766045, 1.172278668837416, 4.090859066802912, 8.12144339243509, 6.481235112264808, 3.642361243164282, -2.411540122980223, 5.226108861805242, 3.3843174085962615, 6.602337984296268, 4.081164689000365, 8.440927055677616, 2.742198672880373, 4.009820300397107, 6.333882193128248, -2.4344230608723976, 0.9916986996299051, 0.4998571552381579, 12.903078597616231, 2.535689871719577, 6.2611011190378605, 6.096875310868595, 1.5956328490655372, -4.754184135652236, 7.824219853380717, 0.9640161516820407, 6.589783283724499, -3.5263241255498228]\n",
      "3.83\n"
     ]
    }
   ],
   "source": [
    "import statistics as stats\n",
    "import random\n",
    "\n",
    "random.seed(-1)\n",
    "# num = random.Normal(loc = 3.0, scale = 5.0)\n",
    "# print(num.sample())\n",
    "num = stats.NormalDist(3, 5)\n",
    "samples = num.samples(50)\n",
    "\n",
    "print(samples)\n",
    "print(round(stats.median(samples), 2))\n",
    "\n"
   ]
  },
  {
   "cell_type": "code",
   "execution_count": null,
   "id": "a5c7e84b",
   "metadata": {},
   "outputs": [],
   "source": []
  },
  {
   "cell_type": "markdown",
   "id": "374064d6",
   "metadata": {},
   "source": [
    "#### Q9"
   ]
  },
  {
   "cell_type": "markdown",
   "id": "fcd6f142",
   "metadata": {},
   "source": [
    "You have this 2-dimensional `Vector` class defined as follows:"
   ]
  },
  {
   "cell_type": "code",
   "execution_count": 3,
   "id": "f91b6d09",
   "metadata": {},
   "outputs": [],
   "source": [
    "class Vector:\n",
    "    def __init__(self, x, y):\n",
    "        self._x = x\n",
    "        self._y = y\n",
    "        \n",
    "    @property\n",
    "    def x(self):\n",
    "        return self._x\n",
    "    \n",
    "    @property \n",
    "    def y(self):\n",
    "        return self._y"
   ]
  },
  {
   "cell_type": "markdown",
   "id": "2592891f",
   "metadata": {},
   "source": [
    "When you print out an instance of this class, Python's default string representation is shown. You would rather have a more specific representation that should result in the **same output** for **both** `repr()` and `str()` of the instance."
   ]
  },
  {
   "cell_type": "markdown",
   "id": "93538f81",
   "metadata": {},
   "source": [
    "For example, if you have a vector:"
   ]
  },
  {
   "cell_type": "code",
   "execution_count": 4,
   "id": "4c6d1100",
   "metadata": {},
   "outputs": [],
   "source": [
    "v = Vector(1, 2)"
   ]
  },
  {
   "cell_type": "markdown",
   "id": "eee0f33f",
   "metadata": {},
   "source": [
    "Then you want the following results:\n",
    "\n",
    "`str(v)` --> `'Vector(1, 2)'`\n",
    "\n",
    "`repr(v)` --> `'Vector(1, 2)'`"
   ]
  },
  {
   "cell_type": "markdown",
   "id": "b384432c",
   "metadata": {},
   "source": [
    "What code can you add to your class to do this:"
   ]
  },
  {
   "cell_type": "markdown",
   "id": "6f2b75c2",
   "metadata": {},
   "source": [
    "I. \n",
    "```\n",
    "def __str__(self):\n",
    "    return f'Vector({self.x}, {self.y})'\n",
    "```\n",
    "\n",
    "II.\n",
    "```\n",
    "def __repr__(self):\n",
    "    return f'Vector({self.x}, {self.y})'\n",
    "```\n",
    "\n",
    "III. \n",
    "```\n",
    "def __str__(self):\n",
    "    return f'Vector({self._x}, {self._y})'\n",
    "```\n",
    "\n",
    "IV.\n",
    "```\n",
    "def __repr__(self):\n",
    "    return f'Vector({self._x}, {self._y})'\n",
    "```\n",
    "\n",
    "\n",
    "- a. I or II only\n",
    "- b. III or IV only\n",
    "- c. II or IV only\n",
    "- d. any of them will work\n"
   ]
  },
  {
   "cell_type": "markdown",
   "id": "aac090c2",
   "metadata": {},
   "source": [
    "#### Q10"
   ]
  },
  {
   "cell_type": "markdown",
   "id": "07ee9b72",
   "metadata": {},
   "source": [
    "Continuing with the `Vector` class defined in the previous question, we want to implement equality of two instances of `Vector` such that two instances are considered equal if:\n",
    "- they are both instances of `Vector`\n",
    "- the `x` components of each vector are equal, and the `y` components of each vector are equal"
   ]
  },
  {
   "cell_type": "markdown",
   "id": "32702448",
   "metadata": {},
   "source": [
    "Once you have implemented this functionality, then:\n",
    "\n",
    "```\n",
    "Vector(1, 2) == Vector(1, 2)\n",
    "```\n",
    "\n",
    "should evaluate to `True`"
   ]
  },
  {
   "cell_type": "markdown",
   "id": "53d26999",
   "metadata": {},
   "source": [
    "Which of the following additions to your class could implement this behavior:"
   ]
  },
  {
   "cell_type": "markdown",
   "id": "5f467bfe",
   "metadata": {},
   "source": [
    "I.\n",
    "```\n",
    "def __eq__(self, other):\n",
    "    return self == other\n",
    "```\n",
    "\n",
    "II.\n",
    "```\n",
    "def __eq__(self, other):\n",
    "    return isinstance(other, Vector)\n",
    "```\n",
    "\n",
    "III.\n",
    "```\n",
    "def __eq__(self, other):\n",
    "    if (\n",
    "        isinstance(other, Vector) \n",
    "        and self.x == other.x \n",
    "        and self.y == other.y\n",
    "    ):\n",
    "        return True\n",
    "    return False\n",
    "```\n",
    "\n",
    "- a. I only\n",
    "- b. II only\n",
    "- c. III only\n",
    "- d. none of them\n"
   ]
  }
 ],
 "metadata": {
  "kernelspec": {
   "display_name": "Python 3 (ipykernel)",
   "language": "python",
   "name": "python3"
  },
  "language_info": {
   "codemirror_mode": {
    "name": "ipython",
    "version": 3
   },
   "file_extension": ".py",
   "mimetype": "text/x-python",
   "name": "python",
   "nbconvert_exporter": "python",
   "pygments_lexer": "ipython3",
   "version": "3.11.4"
  }
 },
 "nbformat": 4,
 "nbformat_minor": 5
}
